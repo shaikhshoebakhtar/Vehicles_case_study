{
 "cells": [
  {
   "cell_type": "code",
   "execution_count": 1,
   "id": "08cc1e0d-1cc5-47b3-9dcc-fd90d591b462",
   "metadata": {},
   "outputs": [],
   "source": [
    "import os\n",
    "os.chdir(r'E:/')\n"
   ]
  },
  {
   "cell_type": "code",
   "execution_count": 2,
   "id": "2297b314-cb9d-42f8-b5f8-7aa6b18ffcc3",
   "metadata": {},
   "outputs": [
    {
     "data": {
      "text/plain": [
       "'E:\\\\'"
      ]
     },
     "execution_count": 2,
     "metadata": {},
     "output_type": "execute_result"
    }
   ],
   "source": [
    "os.getcwd()"
   ]
  },
  {
   "cell_type": "code",
   "execution_count": 3,
   "id": "952af4d9-766a-46aa-96d4-ae224e0b2d72",
   "metadata": {},
   "outputs": [],
   "source": [
    "# importing the libries\n",
    "import numpy as np\n",
    "import pandas as pd\n",
    "import matplotlib.pyplot as plt\n",
    "import seaborn as sns\n",
    "import zipfile\n",
    "import pandas as pd\n",
    "import os\n",
    "import numpy as np\n",
    "import seaborn as sns\n",
    "import matplotlib.pyplot as plt\n",
    "from sklearn.preprocessing import LabelEncoder\n",
    "from sklearn.preprocessing import OneHotEncoder\n",
    "from sklearn.model_selection import train_test_split\n",
    "from sklearn.ensemble import RandomForestRegressor\n",
    "from sklearn.linear_model import Lasso\n",
    "from sklearn.preprocessing import StandardScaler\n",
    "from sklearn.model_selection import cross_val_score\n",
    "from sklearn.linear_model import LinearRegression\n",
    "from sklearn.ensemble import RandomForestRegressor, GradientBoostingRegressor\n",
    "from sklearn.metrics import mean_squared_error, mean_absolute_error, r2_score"
   ]
  },
  {
   "cell_type": "code",
   "execution_count": 4,
   "id": "cfb85b33-9c1f-462d-8e94-92f6d4c77124",
   "metadata": {},
   "outputs": [],
   "source": [
    "df=pd.read_csv('vehicles.csv')"
   ]
  },
  {
   "cell_type": "code",
   "execution_count": 5,
   "id": "cd13d954-a747-4adb-b624-e1547f0dd8f0",
   "metadata": {},
   "outputs": [
    {
     "data": {
      "text/plain": [
       "(258888, 26)"
      ]
     },
     "execution_count": 5,
     "metadata": {},
     "output_type": "execute_result"
    }
   ],
   "source": [
    "df.shape"
   ]
  },
  {
   "cell_type": "code",
   "execution_count": 6,
   "id": "1f0931f6-a7fa-4ef2-b482-eeefa177428b",
   "metadata": {},
   "outputs": [
    {
     "data": {
      "text/plain": [
       "Index(['ad_title', 'ad_description', 'details', 'slug', 'title', 'type',\n",
       "       'price', 'timestamp', 'posted_date', 'deactivation_date', 'category',\n",
       "       'parent_category', 'location', 'geo_region', 'area', 'is_delivery_free',\n",
       "       'is_doorstep_delivery', 'is_dsd_applicable', 'is_member',\n",
       "       'is_authorized_dealer', 'is_featured_member', 'is_verified',\n",
       "       'membership_level', 'member_since', 'properties', 'user'],\n",
       "      dtype='object')"
      ]
     },
     "execution_count": 6,
     "metadata": {},
     "output_type": "execute_result"
    }
   ],
   "source": [
    "df.columns"
   ]
  },
  {
   "cell_type": "code",
   "execution_count": 7,
   "id": "7f644afa-5e29-4870-bf39-314f63702427",
   "metadata": {},
   "outputs": [
    {
     "name": "stdout",
     "output_type": "stream",
     "text": [
      "<class 'pandas.core.frame.DataFrame'>\n",
      "RangeIndex: 258888 entries, 0 to 258887\n",
      "Data columns (total 26 columns):\n",
      " #   Column                Non-Null Count   Dtype \n",
      "---  ------                --------------   ----- \n",
      " 0   ad_title              258888 non-null  object\n",
      " 1   ad_description        258881 non-null  object\n",
      " 2   details               155505 non-null  object\n",
      " 3   slug                  258888 non-null  object\n",
      " 4   title                 258888 non-null  object\n",
      " 5   type                  258888 non-null  object\n",
      " 6   price                 255077 non-null  object\n",
      " 7   timestamp             258882 non-null  object\n",
      " 8   posted_date           258882 non-null  object\n",
      " 9   deactivation_date     258882 non-null  object\n",
      " 10  category              258888 non-null  object\n",
      " 11  parent_category       258888 non-null  object\n",
      " 12  location              258888 non-null  object\n",
      " 13  geo_region            258888 non-null  object\n",
      " 14  area                  258888 non-null  object\n",
      " 15  is_delivery_free      258888 non-null  bool  \n",
      " 16  is_doorstep_delivery  258888 non-null  bool  \n",
      " 17  is_dsd_applicable     258888 non-null  bool  \n",
      " 18  is_member             249838 non-null  object\n",
      " 19  is_authorized_dealer  249838 non-null  object\n",
      " 20  is_featured_member    249838 non-null  object\n",
      " 21  is_verified           258888 non-null  bool  \n",
      " 22  membership_level      258888 non-null  object\n",
      " 23  member_since          108634 non-null  object\n",
      " 24  properties            258888 non-null  object\n",
      " 25  user                  258888 non-null  object\n",
      "dtypes: bool(4), object(22)\n",
      "memory usage: 44.4+ MB\n"
     ]
    }
   ],
   "source": [
    "df.info()"
   ]
  },
  {
   "cell_type": "code",
   "execution_count": 8,
   "id": "ce480e41-dd52-4594-8e33-f7cde2d13eff",
   "metadata": {},
   "outputs": [
    {
     "data": {
      "text/plain": [
       "ad_title                     0\n",
       "ad_description               7\n",
       "details                 103383\n",
       "slug                         0\n",
       "title                        0\n",
       "type                         0\n",
       "price                     3811\n",
       "timestamp                    6\n",
       "posted_date                  6\n",
       "deactivation_date            6\n",
       "category                     0\n",
       "parent_category              0\n",
       "location                     0\n",
       "geo_region                   0\n",
       "area                         0\n",
       "is_delivery_free             0\n",
       "is_doorstep_delivery         0\n",
       "is_dsd_applicable            0\n",
       "is_member                 9050\n",
       "is_authorized_dealer      9050\n",
       "is_featured_member        9050\n",
       "is_verified                  0\n",
       "membership_level             0\n",
       "member_since            150254\n",
       "properties                   0\n",
       "user                         0\n",
       "dtype: int64"
      ]
     },
     "execution_count": 8,
     "metadata": {},
     "output_type": "execute_result"
    }
   ],
   "source": [
    "df.isnull().sum()"
   ]
  },
  {
   "cell_type": "code",
   "execution_count": 9,
   "id": "5c1f3ec1-2140-4d1c-8f44-b5dded7103f7",
   "metadata": {},
   "outputs": [
    {
     "data": {
      "text/html": [
       "<div>\n",
       "<style scoped>\n",
       "    .dataframe tbody tr th:only-of-type {\n",
       "        vertical-align: middle;\n",
       "    }\n",
       "\n",
       "    .dataframe tbody tr th {\n",
       "        vertical-align: top;\n",
       "    }\n",
       "\n",
       "    .dataframe thead th {\n",
       "        text-align: right;\n",
       "    }\n",
       "</style>\n",
       "<table border=\"1\" class=\"dataframe\">\n",
       "  <thead>\n",
       "    <tr style=\"text-align: right;\">\n",
       "      <th></th>\n",
       "      <th>ad_title</th>\n",
       "      <th>ad_description</th>\n",
       "      <th>details</th>\n",
       "      <th>slug</th>\n",
       "      <th>title</th>\n",
       "      <th>type</th>\n",
       "      <th>price</th>\n",
       "      <th>timestamp</th>\n",
       "      <th>posted_date</th>\n",
       "      <th>deactivation_date</th>\n",
       "      <th>...</th>\n",
       "      <th>is_doorstep_delivery</th>\n",
       "      <th>is_dsd_applicable</th>\n",
       "      <th>is_member</th>\n",
       "      <th>is_authorized_dealer</th>\n",
       "      <th>is_featured_member</th>\n",
       "      <th>is_verified</th>\n",
       "      <th>membership_level</th>\n",
       "      <th>member_since</th>\n",
       "      <th>properties</th>\n",
       "      <th>user</th>\n",
       "    </tr>\n",
       "  </thead>\n",
       "  <tbody>\n",
       "    <tr>\n",
       "      <th>count</th>\n",
       "      <td>258888</td>\n",
       "      <td>258881</td>\n",
       "      <td>155505</td>\n",
       "      <td>258888</td>\n",
       "      <td>258888</td>\n",
       "      <td>258888</td>\n",
       "      <td>255077</td>\n",
       "      <td>258882</td>\n",
       "      <td>258882</td>\n",
       "      <td>258882</td>\n",
       "      <td>...</td>\n",
       "      <td>258888</td>\n",
       "      <td>258888</td>\n",
       "      <td>249838</td>\n",
       "      <td>249838</td>\n",
       "      <td>249838</td>\n",
       "      <td>258888</td>\n",
       "      <td>258888</td>\n",
       "      <td>108634</td>\n",
       "      <td>258888</td>\n",
       "      <td>258888</td>\n",
       "    </tr>\n",
       "    <tr>\n",
       "      <th>unique</th>\n",
       "      <td>203314</td>\n",
       "      <td>193000</td>\n",
       "      <td>18053</td>\n",
       "      <td>258879</td>\n",
       "      <td>118237</td>\n",
       "      <td>2</td>\n",
       "      <td>5495</td>\n",
       "      <td>113463</td>\n",
       "      <td>252696</td>\n",
       "      <td>255120</td>\n",
       "      <td>...</td>\n",
       "      <td>1</td>\n",
       "      <td>1</td>\n",
       "      <td>2</td>\n",
       "      <td>2</td>\n",
       "      <td>2</td>\n",
       "      <td>2</td>\n",
       "      <td>3</td>\n",
       "      <td>90</td>\n",
       "      <td>135732</td>\n",
       "      <td>80719</td>\n",
       "    </tr>\n",
       "    <tr>\n",
       "      <th>top</th>\n",
       "      <td>Bicycle  in Gampaha City | ikman</td>\n",
       "      <td>Good condition</td>\n",
       "      <td>50,000 km</td>\n",
       "      <td>bajaj-re-2003-for-sale-kandy-62</td>\n",
       "      <td>Bicycle</td>\n",
       "      <td>for_sale</td>\n",
       "      <td>Rs 25,000</td>\n",
       "      <td>08 Dec 1:04 pm</td>\n",
       "      <td>2023-03-08T10:25:58+05:30</td>\n",
       "      <td>2023-01-27T04:34:43.000Z</td>\n",
       "      <td>...</td>\n",
       "      <td>False</td>\n",
       "      <td>False</td>\n",
       "      <td>False</td>\n",
       "      <td>False</td>\n",
       "      <td>False</td>\n",
       "      <td>False</td>\n",
       "      <td>free</td>\n",
       "      <td>December 2016</td>\n",
       "      <td>{'Service type': 'Transport Services'}</td>\n",
       "      <td>95a2c7432ab661901fd052b7830d959187641c1079efe3...</td>\n",
       "    </tr>\n",
       "    <tr>\n",
       "      <th>freq</th>\n",
       "      <td>89</td>\n",
       "      <td>1860</td>\n",
       "      <td>3115</td>\n",
       "      <td>2</td>\n",
       "      <td>3275</td>\n",
       "      <td>257731</td>\n",
       "      <td>2688</td>\n",
       "      <td>65</td>\n",
       "      <td>7</td>\n",
       "      <td>3</td>\n",
       "      <td>...</td>\n",
       "      <td>258888</td>\n",
       "      <td>258888</td>\n",
       "      <td>151134</td>\n",
       "      <td>249794</td>\n",
       "      <td>249824</td>\n",
       "      <td>190841</td>\n",
       "      <td>159394</td>\n",
       "      <td>9404</td>\n",
       "      <td>8560</td>\n",
       "      <td>2135</td>\n",
       "    </tr>\n",
       "  </tbody>\n",
       "</table>\n",
       "<p>4 rows × 26 columns</p>\n",
       "</div>"
      ],
      "text/plain": [
       "                                ad_title  ad_description    details  \\\n",
       "count                             258888          258881     155505   \n",
       "unique                            203314          193000      18053   \n",
       "top     Bicycle  in Gampaha City | ikman  Good condition  50,000 km   \n",
       "freq                                  89            1860       3115   \n",
       "\n",
       "                                   slug    title      type      price  \\\n",
       "count                            258888   258888    258888     255077   \n",
       "unique                           258879   118237         2       5495   \n",
       "top     bajaj-re-2003-for-sale-kandy-62  Bicycle  for_sale  Rs 25,000   \n",
       "freq                                  2     3275    257731       2688   \n",
       "\n",
       "             timestamp                posted_date         deactivation_date  \\\n",
       "count           258882                     258882                    258882   \n",
       "unique          113463                     252696                    255120   \n",
       "top     08 Dec 1:04 pm  2023-03-08T10:25:58+05:30  2023-01-27T04:34:43.000Z   \n",
       "freq                65                          7                         3   \n",
       "\n",
       "        ... is_doorstep_delivery is_dsd_applicable is_member  \\\n",
       "count   ...               258888            258888    249838   \n",
       "unique  ...                    1                 1         2   \n",
       "top     ...                False             False     False   \n",
       "freq    ...               258888            258888    151134   \n",
       "\n",
       "       is_authorized_dealer is_featured_member is_verified membership_level  \\\n",
       "count                249838             249838      258888           258888   \n",
       "unique                    2                  2           2                3   \n",
       "top                   False              False       False             free   \n",
       "freq                 249794             249824      190841           159394   \n",
       "\n",
       "         member_since                              properties  \\\n",
       "count          108634                                  258888   \n",
       "unique             90                                  135732   \n",
       "top     December 2016  {'Service type': 'Transport Services'}   \n",
       "freq             9404                                    8560   \n",
       "\n",
       "                                                     user  \n",
       "count                                              258888  \n",
       "unique                                              80719  \n",
       "top     95a2c7432ab661901fd052b7830d959187641c1079efe3...  \n",
       "freq                                                 2135  \n",
       "\n",
       "[4 rows x 26 columns]"
      ]
     },
     "execution_count": 9,
     "metadata": {},
     "output_type": "execute_result"
    }
   ],
   "source": [
    "df.describe()"
   ]
  },
  {
   "cell_type": "code",
   "execution_count": 11,
   "id": "36f4fdd9-5af9-4830-bf63-0b857a1a93f6",
   "metadata": {},
   "outputs": [],
   "source": [
    "#dropping null value from column ad_desc\n",
    "df.dropna(subset=['ad_description','timestamp','posted_date'], inplace=True)"
   ]
  },
  {
   "cell_type": "code",
   "execution_count": 12,
   "id": "a5dff61f-9392-4a2e-9bfa-34efa544df6a",
   "metadata": {},
   "outputs": [],
   "source": [
    "#removing unwanted string and converting column type into numeric\n",
    "df['details'] = df['details'].str.replace(r'[^\\d\\s]','', regex=True)\n",
    "df['details'] = pd.to_numeric(df['details'], errors='coerce')"
   ]
  },
  {
   "cell_type": "code",
   "execution_count": 13,
   "id": "60b2c97d-91bc-47f5-9a9b-e50044e0ddef",
   "metadata": {},
   "outputs": [],
   "source": [
    "# Clean 'price' column and handle non-numeric values\n",
    "df['price'] = df['price'].str.replace('Rs ', '').str.replace(',', '')\n",
    "df['price'] = pd.to_numeric(df['price'], errors='coerce')  # 'coerce' handles non-numeric values by setting NaN"
   ]
  },
  {
   "cell_type": "code",
   "execution_count": 14,
   "id": "34b29214-d400-4ba3-9771-53a615773742",
   "metadata": {},
   "outputs": [
    {
     "data": {
      "text/html": [
       "<div>\n",
       "<style scoped>\n",
       "    .dataframe tbody tr th:only-of-type {\n",
       "        vertical-align: middle;\n",
       "    }\n",
       "\n",
       "    .dataframe tbody tr th {\n",
       "        vertical-align: top;\n",
       "    }\n",
       "\n",
       "    .dataframe thead th {\n",
       "        text-align: right;\n",
       "    }\n",
       "</style>\n",
       "<table border=\"1\" class=\"dataframe\">\n",
       "  <thead>\n",
       "    <tr style=\"text-align: right;\">\n",
       "      <th></th>\n",
       "      <th>ad_title</th>\n",
       "      <th>ad_description</th>\n",
       "      <th>details</th>\n",
       "      <th>slug</th>\n",
       "      <th>title</th>\n",
       "      <th>type</th>\n",
       "      <th>price</th>\n",
       "      <th>timestamp</th>\n",
       "      <th>posted_date</th>\n",
       "      <th>deactivation_date</th>\n",
       "      <th>...</th>\n",
       "      <th>is_doorstep_delivery</th>\n",
       "      <th>is_dsd_applicable</th>\n",
       "      <th>is_member</th>\n",
       "      <th>is_authorized_dealer</th>\n",
       "      <th>is_featured_member</th>\n",
       "      <th>is_verified</th>\n",
       "      <th>membership_level</th>\n",
       "      <th>member_since</th>\n",
       "      <th>properties</th>\n",
       "      <th>user</th>\n",
       "    </tr>\n",
       "  </thead>\n",
       "  <tbody>\n",
       "    <tr>\n",
       "      <th>0</th>\n",
       "      <td>Nissan Tiida Alternator  in Maharagama | ikman</td>\n",
       "      <td>**TISSA AUTO PARTS** Dealer of used Japanese m...</td>\n",
       "      <td>NaN</td>\n",
       "      <td>nissan-tiida-alternator-for-sale-colombo-3</td>\n",
       "      <td>Nissan Tiida Alternator</td>\n",
       "      <td>for_sale</td>\n",
       "      <td>18000.0</td>\n",
       "      <td>23 Feb 11:35 pm</td>\n",
       "      <td>2023-02-23T23:35:10+05:30</td>\n",
       "      <td>2022-05-30T17:13:04.000Z</td>\n",
       "      <td>...</td>\n",
       "      <td>False</td>\n",
       "      <td>False</td>\n",
       "      <td>True</td>\n",
       "      <td>False</td>\n",
       "      <td>False</td>\n",
       "      <td>True</td>\n",
       "      <td>premium</td>\n",
       "      <td>September 2019</td>\n",
       "      <td>{'Condition': 'Reconditioned', 'Part or Access...</td>\n",
       "      <td>a6681dea494390daa516a6d2bdcb36e08c318574a13413...</td>\n",
       "    </tr>\n",
       "    <tr>\n",
       "      <th>1</th>\n",
       "      <td>Axio 165 Tail Light  in Kotte | ikman</td>\n",
       "      <td>Imported from Japan \\n\\nRight side available \\...</td>\n",
       "      <td>NaN</td>\n",
       "      <td>axio-165-tail-light-for-sale-colombo-14</td>\n",
       "      <td>Axio 165 Tail Light</td>\n",
       "      <td>for_sale</td>\n",
       "      <td>67000.0</td>\n",
       "      <td>23 Feb 8:32 am</td>\n",
       "      <td>2023-02-23T08:32:44+05:30</td>\n",
       "      <td>2022-03-31T16:27:59.000Z</td>\n",
       "      <td>...</td>\n",
       "      <td>False</td>\n",
       "      <td>False</td>\n",
       "      <td>True</td>\n",
       "      <td>False</td>\n",
       "      <td>False</td>\n",
       "      <td>True</td>\n",
       "      <td>plus</td>\n",
       "      <td>June 2018</td>\n",
       "      <td>{'Condition': 'Reconditioned', 'Part or Access...</td>\n",
       "      <td>5d99b8e45a1bb318079da7a36392d9025e1644cb49ecbf...</td>\n",
       "    </tr>\n",
       "    <tr>\n",
       "      <th>2</th>\n",
       "      <td>Axio 165 / 161 Head light  in Kotte | ikman.lk</td>\n",
       "      <td>Imported from Japan \\n\\nAuto focus headlight a...</td>\n",
       "      <td>NaN</td>\n",
       "      <td>axio-165-161-head-light-for-sale-colombo</td>\n",
       "      <td>Axio 165 / 161 Head light</td>\n",
       "      <td>for_sale</td>\n",
       "      <td>85000.0</td>\n",
       "      <td>01 Dec 8:27 pm</td>\n",
       "      <td>2022-12-01T20:27:49+05:30</td>\n",
       "      <td>2022-03-31T14:03:57.000Z</td>\n",
       "      <td>...</td>\n",
       "      <td>False</td>\n",
       "      <td>False</td>\n",
       "      <td>True</td>\n",
       "      <td>False</td>\n",
       "      <td>False</td>\n",
       "      <td>True</td>\n",
       "      <td>plus</td>\n",
       "      <td>June 2018</td>\n",
       "      <td>{'Condition': 'Reconditioned', 'Part or Access...</td>\n",
       "      <td>5d99b8e45a1bb318079da7a36392d9025e1644cb49ecbf...</td>\n",
       "    </tr>\n",
       "    <tr>\n",
       "      <th>3</th>\n",
       "      <td>Vigo side step ( Foot board)  in Kottawa | ikman</td>\n",
       "      <td>Hilux Vigo side step\\nBrand New Thaiwan\\nGood ...</td>\n",
       "      <td>NaN</td>\n",
       "      <td>vigo-side-step-foot-board-for-sale-colombo</td>\n",
       "      <td>Vigo side step ( Foot board)</td>\n",
       "      <td>for_sale</td>\n",
       "      <td>47000.0</td>\n",
       "      <td>04 Dec 2:47 pm</td>\n",
       "      <td>2022-12-04T14:47:27+05:30</td>\n",
       "      <td>2022-07-29T13:22:59.000Z</td>\n",
       "      <td>...</td>\n",
       "      <td>False</td>\n",
       "      <td>False</td>\n",
       "      <td>True</td>\n",
       "      <td>False</td>\n",
       "      <td>False</td>\n",
       "      <td>False</td>\n",
       "      <td>plus</td>\n",
       "      <td>February 2017</td>\n",
       "      <td>{'Condition': 'New', 'Part or Accessory Type':...</td>\n",
       "      <td>634d93e14a62d9de7b400ee3679ae1d5506f4252ff0580...</td>\n",
       "    </tr>\n",
       "    <tr>\n",
       "      <th>4</th>\n",
       "      <td>Vigo Dickey Door Garnish Cover  in Kottawa | i...</td>\n",
       "      <td>Hilux Vigo ( 2005, 2009 ) dickey door garnish set</td>\n",
       "      <td>NaN</td>\n",
       "      <td>vigo-dickey-door-garnish-cover-for-sale-colombo-1</td>\n",
       "      <td>Vigo Dickey Door Garnish Cover</td>\n",
       "      <td>for_sale</td>\n",
       "      <td>9000.0</td>\n",
       "      <td>08 Dec 9:28 am</td>\n",
       "      <td>2022-12-08T09:28:04+05:30</td>\n",
       "      <td>2022-07-29T12:55:44.000Z</td>\n",
       "      <td>...</td>\n",
       "      <td>False</td>\n",
       "      <td>False</td>\n",
       "      <td>True</td>\n",
       "      <td>False</td>\n",
       "      <td>False</td>\n",
       "      <td>False</td>\n",
       "      <td>plus</td>\n",
       "      <td>February 2017</td>\n",
       "      <td>{'Condition': 'New', 'Part or Accessory Type':...</td>\n",
       "      <td>634d93e14a62d9de7b400ee3679ae1d5506f4252ff0580...</td>\n",
       "    </tr>\n",
       "    <tr>\n",
       "      <th>...</th>\n",
       "      <td>...</td>\n",
       "      <td>...</td>\n",
       "      <td>...</td>\n",
       "      <td>...</td>\n",
       "      <td>...</td>\n",
       "      <td>...</td>\n",
       "      <td>...</td>\n",
       "      <td>...</td>\n",
       "      <td>...</td>\n",
       "      <td>...</td>\n",
       "      <td>...</td>\n",
       "      <td>...</td>\n",
       "      <td>...</td>\n",
       "      <td>...</td>\n",
       "      <td>...</td>\n",
       "      <td>...</td>\n",
       "      <td>...</td>\n",
       "      <td>...</td>\n",
       "      <td>...</td>\n",
       "      <td>...</td>\n",
       "      <td>...</td>\n",
       "    </tr>\n",
       "    <tr>\n",
       "      <th>258883</th>\n",
       "      <td>Nissan March K10 1989  in Jaffna City | ikman</td>\n",
       "      <td>Very good condition\\nno hidden errors\\nsmooth ...</td>\n",
       "      <td>140000.0</td>\n",
       "      <td>nissan-march-k10-1989-for-sale-jaffna</td>\n",
       "      <td>Nissan March K10 1989</td>\n",
       "      <td>for_sale</td>\n",
       "      <td>1030000.0</td>\n",
       "      <td>01 Apr 11:41 am</td>\n",
       "      <td>2023-04-01T11:41:50+05:30</td>\n",
       "      <td>2023-05-31T06:11:16.000Z</td>\n",
       "      <td>...</td>\n",
       "      <td>False</td>\n",
       "      <td>False</td>\n",
       "      <td>False</td>\n",
       "      <td>False</td>\n",
       "      <td>False</td>\n",
       "      <td>False</td>\n",
       "      <td>free</td>\n",
       "      <td>NaN</td>\n",
       "      <td>{'Brand': 'Nissan', 'Model': 'March', 'Trim / ...</td>\n",
       "      <td>48a910425b8f190b818a89d56b60a919c8b5297b0208ea...</td>\n",
       "    </tr>\n",
       "    <tr>\n",
       "      <th>258884</th>\n",
       "      <td>Toyota Allion 260 2009  in Battaramulla | ikman</td>\n",
       "      <td>Good Conditions Car\\nGenuine mileage \\nManufac...</td>\n",
       "      <td>219000.0</td>\n",
       "      <td>toyota-allion-260-2009-for-sale-colombo-83</td>\n",
       "      <td>Toyota Allion 260 2009</td>\n",
       "      <td>for_sale</td>\n",
       "      <td>3550000.0</td>\n",
       "      <td>30 Mar 10:10 am</td>\n",
       "      <td>2023-03-30T10:10:04+05:30</td>\n",
       "      <td>2023-05-29T04:36:57.000Z</td>\n",
       "      <td>...</td>\n",
       "      <td>False</td>\n",
       "      <td>False</td>\n",
       "      <td>False</td>\n",
       "      <td>False</td>\n",
       "      <td>False</td>\n",
       "      <td>False</td>\n",
       "      <td>free</td>\n",
       "      <td>NaN</td>\n",
       "      <td>{'Brand': 'Toyota', 'Model': 'Allion', 'Trim /...</td>\n",
       "      <td>c9b739e56cdac87b2a966a338eb8508c15dd977445751b...</td>\n",
       "    </tr>\n",
       "    <tr>\n",
       "      <th>258885</th>\n",
       "      <td>Micro Trend Car for Rent in Colombo 3 | ikman</td>\n",
       "      <td>Unlimited km\\nPer month 70000\\nManual transmis...</td>\n",
       "      <td>NaN</td>\n",
       "      <td>micro-trend-unlimited-km-car-for-rent-for-sale...</td>\n",
       "      <td>Micro Trend Car for Rent</td>\n",
       "      <td>for_sale</td>\n",
       "      <td>70000.0</td>\n",
       "      <td>01 Apr 11:41 am</td>\n",
       "      <td>2023-04-01T11:41:13+05:30</td>\n",
       "      <td>2023-05-31T06:10:48.000Z</td>\n",
       "      <td>...</td>\n",
       "      <td>False</td>\n",
       "      <td>False</td>\n",
       "      <td>False</td>\n",
       "      <td>False</td>\n",
       "      <td>False</td>\n",
       "      <td>False</td>\n",
       "      <td>free</td>\n",
       "      <td>NaN</td>\n",
       "      <td>{'Service type': 'Car Rentals'}</td>\n",
       "      <td>c7bf4bbdbcd88d9d7f7c7b299c94e9e52091af2fd2888e...</td>\n",
       "    </tr>\n",
       "    <tr>\n",
       "      <th>258886</th>\n",
       "      <td>Toyota Roomy custom GS safety 2018  in Borales...</td>\n",
       "      <td>Toyota Roomy Custom G\\n2018 Model year \\nMilea...</td>\n",
       "      <td>30000.0</td>\n",
       "      <td>toyota-roomy-custom-gs-safety-2018-for-sale-co...</td>\n",
       "      <td>Toyota Roomy custom GS safety 2018</td>\n",
       "      <td>for_sale</td>\n",
       "      <td>7250000.0</td>\n",
       "      <td>01 Apr 11:40 am</td>\n",
       "      <td>2023-04-01T11:40:57+05:30</td>\n",
       "      <td>2023-05-31T06:10:57.000Z</td>\n",
       "      <td>...</td>\n",
       "      <td>False</td>\n",
       "      <td>False</td>\n",
       "      <td>True</td>\n",
       "      <td>False</td>\n",
       "      <td>False</td>\n",
       "      <td>False</td>\n",
       "      <td>premium</td>\n",
       "      <td>December 2019</td>\n",
       "      <td>{'Brand': 'Toyota', 'Model': 'Roomy', 'Trim / ...</td>\n",
       "      <td>7c6477247c19fa63845687656fee40702da46c9d184568...</td>\n",
       "    </tr>\n",
       "    <tr>\n",
       "      <th>258887</th>\n",
       "      <td>TVS Star Sport 2007  in Kekirawa | ikman</td>\n",
       "      <td>engine hirawela 40 wiyadankarala hadhala thiye...</td>\n",
       "      <td>88102.0</td>\n",
       "      <td>tvs-star-sport-2007-for-sale-anuradhapura-6</td>\n",
       "      <td>TVS Star Sport 2007</td>\n",
       "      <td>for_sale</td>\n",
       "      <td>135000.0</td>\n",
       "      <td>01 Apr 11:40 am</td>\n",
       "      <td>2023-04-01T11:40:56+05:30</td>\n",
       "      <td>2023-05-31T06:10:26.000Z</td>\n",
       "      <td>...</td>\n",
       "      <td>False</td>\n",
       "      <td>False</td>\n",
       "      <td>False</td>\n",
       "      <td>False</td>\n",
       "      <td>False</td>\n",
       "      <td>False</td>\n",
       "      <td>free</td>\n",
       "      <td>NaN</td>\n",
       "      <td>{'Bike Type': 'Motorbikes', 'Condition': 'Used...</td>\n",
       "      <td>250f50f6456508d02d1f94e93cf90bfe5659696d70e5d2...</td>\n",
       "    </tr>\n",
       "  </tbody>\n",
       "</table>\n",
       "<p>258875 rows × 26 columns</p>\n",
       "</div>"
      ],
      "text/plain": [
       "                                                 ad_title  \\\n",
       "0          Nissan Tiida Alternator  in Maharagama | ikman   \n",
       "1                   Axio 165 Tail Light  in Kotte | ikman   \n",
       "2          Axio 165 / 161 Head light  in Kotte | ikman.lk   \n",
       "3        Vigo side step ( Foot board)  in Kottawa | ikman   \n",
       "4       Vigo Dickey Door Garnish Cover  in Kottawa | i...   \n",
       "...                                                   ...   \n",
       "258883      Nissan March K10 1989  in Jaffna City | ikman   \n",
       "258884    Toyota Allion 260 2009  in Battaramulla | ikman   \n",
       "258885      Micro Trend Car for Rent in Colombo 3 | ikman   \n",
       "258886  Toyota Roomy custom GS safety 2018  in Borales...   \n",
       "258887           TVS Star Sport 2007  in Kekirawa | ikman   \n",
       "\n",
       "                                           ad_description   details  \\\n",
       "0       **TISSA AUTO PARTS** Dealer of used Japanese m...       NaN   \n",
       "1       Imported from Japan \\n\\nRight side available \\...       NaN   \n",
       "2       Imported from Japan \\n\\nAuto focus headlight a...       NaN   \n",
       "3       Hilux Vigo side step\\nBrand New Thaiwan\\nGood ...       NaN   \n",
       "4       Hilux Vigo ( 2005, 2009 ) dickey door garnish set       NaN   \n",
       "...                                                   ...       ...   \n",
       "258883  Very good condition\\nno hidden errors\\nsmooth ...  140000.0   \n",
       "258884  Good Conditions Car\\nGenuine mileage \\nManufac...  219000.0   \n",
       "258885  Unlimited km\\nPer month 70000\\nManual transmis...       NaN   \n",
       "258886  Toyota Roomy Custom G\\n2018 Model year \\nMilea...   30000.0   \n",
       "258887  engine hirawela 40 wiyadankarala hadhala thiye...   88102.0   \n",
       "\n",
       "                                                     slug  \\\n",
       "0              nissan-tiida-alternator-for-sale-colombo-3   \n",
       "1                 axio-165-tail-light-for-sale-colombo-14   \n",
       "2                axio-165-161-head-light-for-sale-colombo   \n",
       "3              vigo-side-step-foot-board-for-sale-colombo   \n",
       "4       vigo-dickey-door-garnish-cover-for-sale-colombo-1   \n",
       "...                                                   ...   \n",
       "258883              nissan-march-k10-1989-for-sale-jaffna   \n",
       "258884         toyota-allion-260-2009-for-sale-colombo-83   \n",
       "258885  micro-trend-unlimited-km-car-for-rent-for-sale...   \n",
       "258886  toyota-roomy-custom-gs-safety-2018-for-sale-co...   \n",
       "258887        tvs-star-sport-2007-for-sale-anuradhapura-6   \n",
       "\n",
       "                                     title      type      price  \\\n",
       "0                  Nissan Tiida Alternator  for_sale    18000.0   \n",
       "1                      Axio 165 Tail Light  for_sale    67000.0   \n",
       "2                Axio 165 / 161 Head light  for_sale    85000.0   \n",
       "3             Vigo side step ( Foot board)  for_sale    47000.0   \n",
       "4           Vigo Dickey Door Garnish Cover  for_sale     9000.0   \n",
       "...                                    ...       ...        ...   \n",
       "258883               Nissan March K10 1989  for_sale  1030000.0   \n",
       "258884              Toyota Allion 260 2009  for_sale  3550000.0   \n",
       "258885            Micro Trend Car for Rent  for_sale    70000.0   \n",
       "258886  Toyota Roomy custom GS safety 2018  for_sale  7250000.0   \n",
       "258887                 TVS Star Sport 2007  for_sale   135000.0   \n",
       "\n",
       "              timestamp                posted_date         deactivation_date  \\\n",
       "0       23 Feb 11:35 pm  2023-02-23T23:35:10+05:30  2022-05-30T17:13:04.000Z   \n",
       "1        23 Feb 8:32 am  2023-02-23T08:32:44+05:30  2022-03-31T16:27:59.000Z   \n",
       "2        01 Dec 8:27 pm  2022-12-01T20:27:49+05:30  2022-03-31T14:03:57.000Z   \n",
       "3        04 Dec 2:47 pm  2022-12-04T14:47:27+05:30  2022-07-29T13:22:59.000Z   \n",
       "4        08 Dec 9:28 am  2022-12-08T09:28:04+05:30  2022-07-29T12:55:44.000Z   \n",
       "...                 ...                        ...                       ...   \n",
       "258883  01 Apr 11:41 am  2023-04-01T11:41:50+05:30  2023-05-31T06:11:16.000Z   \n",
       "258884  30 Mar 10:10 am  2023-03-30T10:10:04+05:30  2023-05-29T04:36:57.000Z   \n",
       "258885  01 Apr 11:41 am  2023-04-01T11:41:13+05:30  2023-05-31T06:10:48.000Z   \n",
       "258886  01 Apr 11:40 am  2023-04-01T11:40:57+05:30  2023-05-31T06:10:57.000Z   \n",
       "258887  01 Apr 11:40 am  2023-04-01T11:40:56+05:30  2023-05-31T06:10:26.000Z   \n",
       "\n",
       "        ... is_doorstep_delivery is_dsd_applicable is_member  \\\n",
       "0       ...                False             False      True   \n",
       "1       ...                False             False      True   \n",
       "2       ...                False             False      True   \n",
       "3       ...                False             False      True   \n",
       "4       ...                False             False      True   \n",
       "...     ...                  ...               ...       ...   \n",
       "258883  ...                False             False     False   \n",
       "258884  ...                False             False     False   \n",
       "258885  ...                False             False     False   \n",
       "258886  ...                False             False      True   \n",
       "258887  ...                False             False     False   \n",
       "\n",
       "       is_authorized_dealer is_featured_member  is_verified  membership_level  \\\n",
       "0                     False              False         True           premium   \n",
       "1                     False              False         True              plus   \n",
       "2                     False              False         True              plus   \n",
       "3                     False              False        False              plus   \n",
       "4                     False              False        False              plus   \n",
       "...                     ...                ...          ...               ...   \n",
       "258883                False              False        False              free   \n",
       "258884                False              False        False              free   \n",
       "258885                False              False        False              free   \n",
       "258886                False              False        False           premium   \n",
       "258887                False              False        False              free   \n",
       "\n",
       "          member_since                                         properties  \\\n",
       "0       September 2019  {'Condition': 'Reconditioned', 'Part or Access...   \n",
       "1            June 2018  {'Condition': 'Reconditioned', 'Part or Access...   \n",
       "2            June 2018  {'Condition': 'Reconditioned', 'Part or Access...   \n",
       "3        February 2017  {'Condition': 'New', 'Part or Accessory Type':...   \n",
       "4        February 2017  {'Condition': 'New', 'Part or Accessory Type':...   \n",
       "...                ...                                                ...   \n",
       "258883             NaN  {'Brand': 'Nissan', 'Model': 'March', 'Trim / ...   \n",
       "258884             NaN  {'Brand': 'Toyota', 'Model': 'Allion', 'Trim /...   \n",
       "258885             NaN                    {'Service type': 'Car Rentals'}   \n",
       "258886   December 2019  {'Brand': 'Toyota', 'Model': 'Roomy', 'Trim / ...   \n",
       "258887             NaN  {'Bike Type': 'Motorbikes', 'Condition': 'Used...   \n",
       "\n",
       "                                                     user  \n",
       "0       a6681dea494390daa516a6d2bdcb36e08c318574a13413...  \n",
       "1       5d99b8e45a1bb318079da7a36392d9025e1644cb49ecbf...  \n",
       "2       5d99b8e45a1bb318079da7a36392d9025e1644cb49ecbf...  \n",
       "3       634d93e14a62d9de7b400ee3679ae1d5506f4252ff0580...  \n",
       "4       634d93e14a62d9de7b400ee3679ae1d5506f4252ff0580...  \n",
       "...                                                   ...  \n",
       "258883  48a910425b8f190b818a89d56b60a919c8b5297b0208ea...  \n",
       "258884  c9b739e56cdac87b2a966a338eb8508c15dd977445751b...  \n",
       "258885  c7bf4bbdbcd88d9d7f7c7b299c94e9e52091af2fd2888e...  \n",
       "258886  7c6477247c19fa63845687656fee40702da46c9d184568...  \n",
       "258887  250f50f6456508d02d1f94e93cf90bfe5659696d70e5d2...  \n",
       "\n",
       "[258875 rows x 26 columns]"
      ]
     },
     "execution_count": 14,
     "metadata": {},
     "output_type": "execute_result"
    }
   ],
   "source": [
    "df"
   ]
  },
  {
   "cell_type": "code",
   "execution_count": 15,
   "id": "ef8b915a-0cd6-4c28-ada2-6580fb50cdbf",
   "metadata": {},
   "outputs": [
    {
     "data": {
      "text/plain": [
       "ad_title                     0\n",
       "ad_description               0\n",
       "details                 103382\n",
       "slug                         0\n",
       "title                        0\n",
       "type                         0\n",
       "price                     5484\n",
       "timestamp                    0\n",
       "posted_date                  0\n",
       "deactivation_date            0\n",
       "category                     0\n",
       "parent_category              0\n",
       "location                     0\n",
       "geo_region                   0\n",
       "area                         0\n",
       "is_delivery_free             0\n",
       "is_doorstep_delivery         0\n",
       "is_dsd_applicable            0\n",
       "is_member                 9049\n",
       "is_authorized_dealer      9049\n",
       "is_featured_member        9049\n",
       "is_verified                  0\n",
       "membership_level             0\n",
       "member_since            150243\n",
       "properties                   0\n",
       "user                         0\n",
       "dtype: int64"
      ]
     },
     "execution_count": 15,
     "metadata": {},
     "output_type": "execute_result"
    }
   ],
   "source": [
    "\n",
    "\n",
    "df.isnull().sum()"
   ]
  },
  {
   "cell_type": "code",
   "execution_count": 17,
   "id": "430bea14-c522-4278-9a6d-f54ab6248e0f",
   "metadata": {},
   "outputs": [],
   "source": [
    "#imputing is_authorized_dealer and is_featured_member\n",
    "mode_is_member=df['is_member'].mode()[0]\n",
    "mode_authorized_dealer = df['is_authorized_dealer'].mode()[0]\n",
    "mode_featured_member = df['is_featured_member'].mode()[0]\n",
    "\n",
    "df['is_member'].fillna(mode_is_member, inplace=True)\n",
    "df['is_authorized_dealer'].fillna(mode_authorized_dealer, inplace=True)\n",
    "df['is_featured_member'].fillna(mode_featured_member, inplace=True)"
   ]
  },
  {
   "cell_type": "code",
   "execution_count": 18,
   "id": "d09a1d13-9b78-4f09-b1d3-4180811fd9e5",
   "metadata": {},
   "outputs": [
    {
     "data": {
      "text/plain": [
       "5850000.0"
      ]
     },
     "execution_count": 18,
     "metadata": {},
     "output_type": "execute_result"
    }
   ],
   "source": [
    "df.price[167894]"
   ]
  },
  {
   "cell_type": "code",
   "execution_count": 19,
   "id": "14e295e4-2901-4684-98ab-7c6ae8426af3",
   "metadata": {},
   "outputs": [],
   "source": [
    "#timestamp\n",
    "df['timestamp'] = df['timestamp'].str.strip(\"'\")\n",
    "\n",
    "df['timestamp'] = pd.to_datetime(df['timestamp'], format='%d %b %I:%M %p', errors='coerce')"
   ]
  },
  {
   "cell_type": "code",
   "execution_count": 20,
   "id": "090eeb63-d157-4973-ba88-ecd62a64f463",
   "metadata": {},
   "outputs": [],
   "source": [
    "#posted_date\n",
    "df['posted_date'] = pd.to_datetime(df['posted_date'], errors='coerce')"
   ]
  },
  {
   "cell_type": "code",
   "execution_count": 21,
   "id": "aebd184a-9485-4cec-b3f2-323a2dbe631f",
   "metadata": {},
   "outputs": [],
   "source": [
    "df['deactivation_date'] = pd.to_datetime(df['deactivation_date'], errors='coerce')"
   ]
  },
  {
   "cell_type": "code",
   "execution_count": 22,
   "id": "7d5146a7-4090-40c0-9229-449805239a6e",
   "metadata": {},
   "outputs": [],
   "source": [
    "# dropping null values \n",
    "df.dropna(subset=['timestamp', 'posted_date', 'deactivation_date'], inplace=True)"
   ]
  },
  {
   "cell_type": "code",
   "execution_count": 23,
   "id": "1965fdfb-a4c4-4378-ab90-8cae5481bfd1",
   "metadata": {},
   "outputs": [],
   "source": [
    "#dropping irrelevant columns\n",
    "df.drop(['slug', 'ad_title', 'user'], axis=1, inplace=True)"
   ]
  },
  {
   "cell_type": "code",
   "execution_count": 24,
   "id": "b30c56ff-149c-4e36-bb80-d6abccac34da",
   "metadata": {},
   "outputs": [],
   "source": [
    "#converting area column in two columns\n",
    "def extract_area_info(dict_str):\n",
    "    if isinstance(dict_str, str):\n",
    "        # Remove '{', '}', spaces\n",
    "        dict_str = dict_str.strip('{} ')\n",
    "        # Split by ', ' and extract 'id' and 'name'\n",
    "        parts = dict_str.split(', ')\n",
    "        area_id = None\n",
    "        area_name = None\n",
    "        \n",
    "        for part in parts:\n",
    "            key, value = part.split(': ')\n",
    "            key = key.strip(\"'\")\n",
    "            value = value.strip(\"'\")\n",
    "            \n",
    "            if key == 'id':\n",
    "                area_id = int(value)\n",
    "            elif key == 'name':\n",
    "                area_name = value\n",
    "        \n",
    "        return area_id, area_name\n",
    "    else:\n",
    "        return None, None\n",
    "\n",
    "df[['area_id', 'area_name']] = df['area'].apply(lambda x: pd.Series(extract_area_info(x)))\n",
    "\n",
    "df.drop('area', axis=1, inplace=True)"
   ]
  },
  {
   "cell_type": "code",
   "execution_count": 25,
   "id": "8cfa1f99-f9b1-4240-b907-bd6995985e9d",
   "metadata": {},
   "outputs": [],
   "source": [
    "import ast  #Abstract Syntax Trees\n",
    "def extract_unique_keys(df, column_name):\n",
    "    unique_keys = set()\n",
    "    for row in df[column_name]:\n",
    "        properties_dict = ast.literal_eval(row)\n",
    "        unique_keys.update(properties_dict.keys())\n",
    "    return unique_keys\n",
    "\n",
    "# Extract unique keys from the 'properties' column\n",
    "unique_keys = extract_unique_keys(df, 'properties')"
   ]
  },
  {
   "cell_type": "code",
   "execution_count": 26,
   "id": "123c074d-5178-4b81-91b7-cc9060110f17",
   "metadata": {},
   "outputs": [
    {
     "data": {
      "text/plain": [
       "{'Bike Type',\n",
       " 'Body type',\n",
       " 'Brand',\n",
       " 'Condition',\n",
       " 'Engine capacity',\n",
       " 'Fuel type',\n",
       " 'Mileage',\n",
       " 'Model',\n",
       " 'Model year',\n",
       " 'Part or Accessory Type',\n",
       " 'Service type',\n",
       " 'Transmission',\n",
       " 'Trim / Edition',\n",
       " 'Vehicle Type',\n",
       " 'Year of Manufacture'}"
      ]
     },
     "execution_count": 26,
     "metadata": {},
     "output_type": "execute_result"
    }
   ],
   "source": [
    "unique_keys"
   ]
  },
  {
   "cell_type": "code",
   "execution_count": 27,
   "id": "d9c22b0a-dcea-4d96-ae7c-475dd2ba57ea",
   "metadata": {},
   "outputs": [],
   "source": [
    "# Function to parse JSON-like strings safely\n",
    "import json\n",
    "def safe_json_parse(text):\n",
    "    try:\n",
    "        return json.loads(text.replace(\"'\", '\"'))\n",
    "    except json.JSONDecodeError:\n",
    "        return {}\n",
    "\n",
    "# Define the selected keys to extract\n",
    "selected_keys = ['Brand', 'Model', 'Year of Manufacture', 'Mileage', 'Condition', 'Engine capacity', 'Transmission']\n",
    "\n",
    "# Extract and convert columns\n",
    "for key in selected_keys:\n",
    "    df[key] = [safe_json_parse(row).get(key) for row in df['properties']]\n",
    "\n",
    "# Drop the original 'properties' column\n",
    "df.drop('properties', axis=1, inplace=True)"
   ]
  },
  {
   "cell_type": "code",
   "execution_count": 28,
   "id": "0149bcc0-4742-4573-a6de-7da85a223873",
   "metadata": {},
   "outputs": [],
   "source": [
    "# Drop the Milage column beacuse it is same as details column\n",
    "df.drop('Mileage', axis=1, inplace=True)"
   ]
  },
  {
   "cell_type": "code",
   "execution_count": 29,
   "id": "278b32ed-13a2-4299-a52d-f2e036eb1f9c",
   "metadata": {},
   "outputs": [],
   "source": [
    "# due to heavy number of null values lets drop some columns\n",
    "columns_to_drop = ['Year of Manufacture', 'Engine capacity', 'Transmission']\n",
    "df.drop(columns_to_drop, axis=1, inplace=True)"
   ]
  },
  {
   "cell_type": "code",
   "execution_count": 30,
   "id": "d369cb38-5457-4869-8ae4-15222dece3a4",
   "metadata": {},
   "outputs": [],
   "source": [
    "# Function to extract brand and model from title\n",
    "def extract_brand_model(title):\n",
    "    parts = title.split()\n",
    "    brand = parts[0] if len(parts) > 0 else None\n",
    "    model = parts[1] if len(parts) > 1 else None\n",
    "    return brand, model\n",
    "\n",
    "# Apply extraction function to fill Brand and Model in df1\n",
    "df[['Brand', 'Model']] = df['title'].apply(lambda x: pd.Series(extract_brand_model(x)))\n",
    "\n",
    "# Drop the title column in df1\n",
    "df.drop('title', axis=1, inplace=True)"
   ]
  },
  {
   "cell_type": "code",
   "execution_count": 31,
   "id": "676899d2-24e6-4214-bcb2-790c0939d7ad",
   "metadata": {},
   "outputs": [],
   "source": [
    "# Drop rows where the Model column has missing values\n",
    "df.dropna(subset=['Model'], inplace=True)"
   ]
  },
  {
   "cell_type": "code",
   "execution_count": 32,
   "id": "37b8aaa6-9833-48fe-bd4c-be36e0d980f9",
   "metadata": {},
   "outputs": [
    {
     "data": {
      "text/plain": [
       "ad_description               0\n",
       "details                  98975\n",
       "type                         0\n",
       "price                     5462\n",
       "timestamp                    0\n",
       "posted_date                  0\n",
       "deactivation_date            0\n",
       "category                     0\n",
       "parent_category              0\n",
       "location                     0\n",
       "geo_region                   0\n",
       "is_delivery_free             0\n",
       "is_doorstep_delivery         0\n",
       "is_dsd_applicable            0\n",
       "is_member                    0\n",
       "is_authorized_dealer         0\n",
       "is_featured_member           0\n",
       "is_verified                  0\n",
       "membership_level             0\n",
       "member_since            145946\n",
       "area_id                      0\n",
       "area_name                    0\n",
       "Brand                        0\n",
       "Model                        0\n",
       "Condition                20563\n",
       "dtype: int64"
      ]
     },
     "execution_count": 32,
     "metadata": {},
     "output_type": "execute_result"
    }
   ],
   "source": [
    "df.isnull().sum()"
   ]
  },
  {
   "cell_type": "code",
   "execution_count": 33,
   "id": "1f248769-4475-4116-a268-a530ff18500c",
   "metadata": {},
   "outputs": [],
   "source": [
    "df.drop(columns=['ad_description'], inplace=True)"
   ]
  },
  {
   "cell_type": "code",
   "execution_count": 34,
   "id": "83b2cf6b-1357-4265-a95e-ee0da4913806",
   "metadata": {},
   "outputs": [
    {
     "data": {
      "image/png": "[encoded data removed]",
      "text/plain": [
       "<Figure size 1200x1000 with 2 Axes>"
      ]
     },
     "metadata": {},
     "output_type": "display_data"
    }
   ],
   "source": [
    "selected_features = ['price', 'Brand', 'Model', 'Condition', 'geo_region', 'details']\n",
    "\n",
    "# Make a copy of the dataframe with selected features\n",
    "df_copy = df[selected_features].copy()\n",
    "\n",
    "# Encode categorical features\n",
    "label_encoders = {}\n",
    "for col in ['Brand', 'Model', 'Condition', 'geo_region']:\n",
    "    if df_copy[col].dtype == 'object' or df_copy[col].dtype == 'category':\n",
    "        le = LabelEncoder()\n",
    "        df_copy[col] = le.fit_transform(df_copy[col].astype(str))\n",
    "        label_encoders[col] = le\n",
    "\n",
    "# Check for correlation\n",
    "corr_matrix = df_copy.corr()\n",
    "plt.figure(figsize=(12, 10))\n",
    "sns.heatmap(corr_matrix, annot=True, cmap='coolwarm', fmt=\".2f\", annot_kws={\"size\": 10})\n",
    "plt.title('Correlation Heatmap of Selected Variables')\n",
    "plt.show()"
   ]
  },
  {
   "cell_type": "code",
   "execution_count": 35,
   "id": "d9d44de8-1695-4370-ad46-e75a52635634",
   "metadata": {},
   "outputs": [
    {
     "name": "stdout",
     "output_type": "stream",
     "text": [
      "     details      type    price           timestamp               posted_date  \\\n",
      "0  97470.522  for_sale  18000.0 1900-02-23 23:35:00 2023-02-23 23:35:10+05:30   \n",
      "1  59827.360  for_sale  67000.0 1900-02-23 08:32:00 2023-02-23 08:32:44+05:30   \n",
      "2  60597.390  for_sale  85000.0 1900-12-01 20:27:00 2022-12-01 20:27:49+05:30   \n",
      "3  70112.840  for_sale  47000.0 1900-12-04 14:47:00 2022-12-04 14:47:27+05:30   \n",
      "4   9044.080  for_sale   9000.0 1900-12-08 09:28:00 2022-12-08 09:28:04+05:30   \n",
      "\n",
      "          deactivation_date                  category parent_category  \\\n",
      "0 2022-05-30 17:13:04+00:00  Auto Parts & Accessories        Vehicles   \n",
      "1 2022-03-31 16:27:59+00:00  Auto Parts & Accessories        Vehicles   \n",
      "2 2022-03-31 14:03:57+00:00  Auto Parts & Accessories        Vehicles   \n",
      "3 2022-07-29 13:22:59+00:00  Auto Parts & Accessories        Vehicles   \n",
      "4 2022-07-29 12:55:44+00:00  Auto Parts & Accessories        Vehicles   \n",
      "\n",
      "     location geo_region  ...  is_authorized_dealer  is_featured_member  \\\n",
      "0  Maharagama      LK-11  ...                 False               False   \n",
      "1       Kotte      LK-11  ...                 False               False   \n",
      "2       Kotte      LK-11  ...                 False               False   \n",
      "3     Kottawa      LK-11  ...                 False               False   \n",
      "4     Kottawa      LK-11  ...                 False               False   \n",
      "\n",
      "   is_verified  membership_level    member_since  area_id  area_name   Brand  \\\n",
      "0         True           premium  September 2019     1506    Colombo  Nissan   \n",
      "1         True              plus       June 2018     1506    Colombo    Axio   \n",
      "2         True              plus       June 2018     1506    Colombo    Axio   \n",
      "3        False              plus   February 2017     1506    Colombo    Vigo   \n",
      "4        False              plus   February 2017     1506    Colombo    Vigo   \n",
      "\n",
      "    Model      Condition  \n",
      "0   Tiida  Reconditioned  \n",
      "1     165  Reconditioned  \n",
      "2     165  Reconditioned  \n",
      "3    side            New  \n",
      "4  Dickey            New  \n",
      "\n",
      "[5 rows x 24 columns]\n"
     ]
    }
   ],
   "source": [
    "import pandas as pd\n",
    "from sklearn.ensemble import RandomForestRegressor\n",
    "from sklearn.impute import SimpleImputer\n",
    "\n",
    "# Split data into known and unknown 'details'\n",
    "known_details = df_copy[df_copy['details'].notnull()]\n",
    "unknown_details = df_copy[df_copy['details'].isnull()]\n",
    "\n",
    "# Features and target\n",
    "X_train = known_details.drop('details', axis=1)\n",
    "y_train = known_details['details']\n",
    "\n",
    "# Impute missing values in features\n",
    "imputer = SimpleImputer(strategy='mean')  # or use other strategies like 'median', 'most_frequent', etc.\n",
    "X_train_imputed = imputer.fit_transform(X_train)\n",
    "\n",
    "# Train Random Forest Regressor\n",
    "rf = RandomForestRegressor(n_estimators=100, random_state=42)\n",
    "rf.fit(X_train_imputed, y_train)\n",
    "\n",
    "# Predict missing 'details'\n",
    "X_test = unknown_details.drop('details', axis=1)\n",
    "X_test_imputed = imputer.transform(X_test)\n",
    "predicted_details = rf.predict(X_test_imputed)\n",
    "\n",
    "# Fill missing 'details' in original dataframe\n",
    "df_copy.loc[df_copy['details'].isnull(), 'details'] = predicted_details\n",
    "\n",
    "# Update the original dataframe with the imputed 'details' column\n",
    "df['details'] = df_copy['details']\n",
    "\n",
    "# Check the updated DataFrame\n",
    "print(df.head())\n"
   ]
  },
  {
   "cell_type": "code",
   "execution_count": 36,
   "id": "4a156b77-0e3b-43d3-9bb9-88a0a83fb0d3",
   "metadata": {},
   "outputs": [
    {
     "data": {
      "text/plain": [
       "array(['Reconditioned', 'New', None, 'Used'], dtype=object)"
      ]
     },
     "execution_count": 36,
     "metadata": {},
     "output_type": "execute_result"
    }
   ],
   "source": [
    "df.Condition.unique()"
   ]
  },
  {
   "cell_type": "code",
   "execution_count": 39,
   "id": "f53eb6a9-c684-4e0b-8e8d-2ba9240ae4d3",
   "metadata": {},
   "outputs": [
    {
     "data": {
      "text/plain": [
       "0"
      ]
     },
     "execution_count": 39,
     "metadata": {},
     "output_type": "execute_result"
    }
   ],
   "source": [
    "import gc\n",
    "gc.collect()"
   ]
  },
  {
   "cell_type": "code",
   "execution_count": 46,
   "id": "07c44595-d248-4ef7-91b2-3f2d921baa79",
   "metadata": {},
   "outputs": [],
   "source": [
    "df['Condition'].fillna(df['Condition'].mode()[0], inplace=True)"
   ]
  },
  {
   "cell_type": "code",
   "execution_count": 47,
   "id": "37a78ac8-f6e5-4541-8d74-d568eabd2826",
   "metadata": {},
   "outputs": [
    {
     "name": "stderr",
     "output_type": "stream",
     "text": [
      "C:\\Users\\admin\\AppData\\Local\\Temp\\ipykernel_7580\\3531788644.py:2: FutureWarning: A value is trying to be set on a copy of a DataFrame or Series through chained assignment using an inplace method.\n",
      "The behavior will change in pandas 3.0. This inplace method will never work because the intermediate object on which we are setting values always behaves as a copy.\n",
      "\n",
      "For example, when doing 'df[col].method(value, inplace=True)', try using 'df.method({col: value}, inplace=True)' or df[col] = df[col].method(value) instead, to perform the operation inplace on the original object.\n",
      "\n",
      "\n",
      "  df['price'].fillna(median_price, inplace=True)\n"
     ]
    }
   ],
   "source": [
    "median_price = df['price'].median()\n",
    "df['price'].fillna(median_price, inplace=True)"
   ]
  },
  {
   "cell_type": "code",
   "execution_count": 48,
   "id": "495c54e5-7513-4dc4-a964-0fd116a499e2",
   "metadata": {},
   "outputs": [
    {
     "data": {
      "text/plain": [
       "details                      0\n",
       "type                         0\n",
       "price                        0\n",
       "timestamp                    0\n",
       "posted_date                  0\n",
       "deactivation_date            0\n",
       "category                     0\n",
       "parent_category              0\n",
       "location                     0\n",
       "geo_region                   0\n",
       "is_delivery_free             0\n",
       "is_doorstep_delivery         0\n",
       "is_dsd_applicable            0\n",
       "is_member                    0\n",
       "is_authorized_dealer         0\n",
       "is_featured_member           0\n",
       "is_verified                  0\n",
       "membership_level             0\n",
       "member_since            145946\n",
       "area_id                      0\n",
       "area_name                    0\n",
       "Brand                        0\n",
       "Model                        0\n",
       "Condition                    0\n",
       "dtype: int64"
      ]
     },
     "execution_count": 48,
     "metadata": {},
     "output_type": "execute_result"
    }
   ],
   "source": [
    "df.isnull().sum()"
   ]
  },
  {
   "cell_type": "code",
   "execution_count": 49,
   "id": "6157dabe-d72b-4e74-8cad-d83663383164",
   "metadata": {},
   "outputs": [
    {
     "data": {
      "text/plain": [
       "(254441, 24)"
      ]
     },
     "execution_count": 49,
     "metadata": {},
     "output_type": "execute_result"
    }
   ],
   "source": [
    "df.shape"
   ]
  },
  {
   "cell_type": "code",
   "execution_count": 50,
   "id": "5cabadb7-393a-4d54-8d0e-fcf7e44aef18",
   "metadata": {},
   "outputs": [
    {
     "data": {
      "text/plain": [
       "details                                   float64\n",
       "type                                       object\n",
       "price                                     float64\n",
       "timestamp                          datetime64[ns]\n",
       "posted_date             datetime64[ns, UTC+05:30]\n",
       "deactivation_date             datetime64[ns, UTC]\n",
       "category                                   object\n",
       "parent_category                            object\n",
       "location                                   object\n",
       "geo_region                                 object\n",
       "is_delivery_free                             bool\n",
       "is_doorstep_delivery                         bool\n",
       "is_dsd_applicable                            bool\n",
       "is_member                                    bool\n",
       "is_authorized_dealer                         bool\n",
       "is_featured_member                           bool\n",
       "is_verified                                  bool\n",
       "membership_level                           object\n",
       "member_since                               object\n",
       "area_id                                     int64\n",
       "area_name                                  object\n",
       "Brand                                      object\n",
       "Model                                      object\n",
       "Condition                                  object\n",
       "dtype: object"
      ]
     },
     "execution_count": 50,
     "metadata": {},
     "output_type": "execute_result"
    }
   ],
   "source": [
    "df.dtypes"
   ]
  },
  {
   "cell_type": "markdown",
   "id": "48a49a36-2fab-4b79-ae56-7d2d7bf1d426",
   "metadata": {},
   "source": [
    "# First Model: Predicting Price"
   ]
  },
  {
   "cell_type": "code",
   "execution_count": 51,
   "id": "39b6e0da-ef1c-435a-887d-70e569e8064d",
   "metadata": {},
   "outputs": [
    {
     "data": {
      "image/png": "[encoded data removed]",
      "text/plain": [
       "<Figure size 1200x1000 with 2 Axes>"
      ]
     },
     "metadata": {},
     "output_type": "display_data"
    }
   ],
   "source": [
    "df_encoded = df.copy()  # Make a copy of the original DataFrame\n",
    "\n",
    "# List of relevant categorical columns to encode\n",
    "cat_cols = ['type', 'category', 'parent_category', 'location', 'geo_region', 'Brand', 'Model', 'Condition']\n",
    "\n",
    "# Apply LabelEncoder to categorical columns\n",
    "encoder = LabelEncoder()\n",
    "\n",
    "for col in cat_cols:\n",
    "    df_encoded[col] = encoder.fit_transform(df_encoded[col].astype(str))\n",
    "\n",
    "# Select relevant columns for correlation analysis\n",
    "relevant_cols = ['price', 'details'] + cat_cols\n",
    "\n",
    "# Subset the DataFrame with relevant columns\n",
    "df_corr = df_encoded[relevant_cols]\n",
    "\n",
    "# Compute correlation matrix\n",
    "corr_matrix = df_corr.corr()\n",
    "\n",
    "# Plot heatmap\n",
    "plt.figure(figsize=(12, 10))\n",
    "sns.heatmap(corr_matrix, annot=True, cmap='coolwarm', fmt='.2f', vmin=-1, vmax=1)\n",
    "plt.title('Correlation Matrix Heatmap')\n",
    "plt.show()"
   ]
  },
  {
   "cell_type": "code",
   "execution_count": 52,
   "id": "82ca92ac-acb5-46ee-8c75-1b7ba51318e6",
   "metadata": {},
   "outputs": [
    {
     "name": "stdout",
     "output_type": "stream",
     "text": [
      "Selected Features:\n",
      " type          2.307527e+06\n",
      "Condition     9.204676e+05\n",
      "category      1.212460e+05\n",
      "geo_region    1.011625e+05\n",
      "month         2.670420e+04\n",
      "day           4.400413e+03\n",
      "Brand         2.919362e+02\n",
      "location      2.107593e+02\n",
      "Model         4.036422e+01\n",
      "details       1.252347e+00\n",
      "dtype: float64\n"
     ]
    }
   ],
   "source": [
    "cols_to_keep = ['details', 'type', 'price', 'timestamp', 'posted_date',\n",
    "                'deactivation_date', 'category', 'parent_category', 'location',\n",
    "                'geo_region', 'Brand', 'Model', 'Condition']\n",
    "df_filtered = df_encoded[cols_to_keep].copy()\n",
    "\n",
    "# Encode categorical columns\n",
    "cat_cols = ['type', 'category', 'parent_category', 'location', 'geo_region', 'Brand', 'Model', 'Condition']\n",
    "encoder = LabelEncoder()\n",
    "\n",
    "for col in cat_cols:\n",
    "    df_filtered[col] = encoder.fit_transform(df_filtered[col].astype(str))\n",
    "\n",
    "# Extract useful components from datetime features\n",
    "df_filtered['year'] = df_filtered['timestamp'].dt.year\n",
    "df_filtered['month'] = df_filtered['timestamp'].dt.month\n",
    "df_filtered['day'] = df_filtered['timestamp'].dt.day\n",
    "\n",
    "# Drop original datetime columns\n",
    "df_filtered.drop(['timestamp', 'posted_date', 'deactivation_date'], axis=1, inplace=True)\n",
    "\n",
    "# Define features and target\n",
    "X = df_filtered.drop(['price'], axis=1)\n",
    "y = df_filtered['price']\n",
    "\n",
    "# Split data into training and testing sets\n",
    "X_train, X_test, y_train, y_test = train_test_split(X, y, test_size=0.2, random_state=42)\n",
    "\n",
    "# Initialize Lasso model\n",
    "lasso = Lasso(alpha=0.1, random_state=42)\n",
    "\n",
    "# Fit Lasso model\n",
    "lasso.fit(X_train, y_train)\n",
    "\n",
    "# Print feature coefficients\n",
    "feature_coef = pd.Series(lasso.coef_, index=X.columns)\n",
    "sorted_features = feature_coef.abs().sort_values(ascending=False)\n",
    "selected_features = sorted_features[sorted_features != 0]\n",
    "print(\"Selected Features:\\n\", selected_features)"
   ]
  },
  {
   "cell_type": "code",
   "execution_count": 53,
   "id": "314ea5dd-4303-473a-8c3c-d1a4e38d044a",
   "metadata": {},
   "outputs": [
    {
     "name": "stdout",
     "output_type": "stream",
     "text": [
      "Linear Regression Results:\n",
      "Cross-Validated RMSE: 7216336.3526\n",
      "MAE: 2506168.5720\n",
      "R² Score: 0.0425\n"
     ]
    }
   ],
   "source": [
    "# different model\n",
    "# linear regression\n",
    "from sklearn.linear_model import LinearRegression\n",
    "from sklearn.metrics import mean_squared_error, mean_absolute_error, r2_score\n",
    "from sklearn.model_selection import cross_val_score\n",
    "\n",
    "# Initialize Linear Regression model\n",
    "model_lr = LinearRegression()\n",
    "\n",
    "# Cross-validation\n",
    "cv_scores = cross_val_score(model_lr, X_train, y_train, cv=5, scoring='neg_mean_squared_error')\n",
    "rmse_lr = np.sqrt(-cv_scores).mean()\n",
    "\n",
    "# Fit model\n",
    "model_lr.fit(X_train, y_train)\n",
    "\n",
    "# Predict on test set\n",
    "y_pred_lr = model_lr.predict(X_test)\n",
    "\n",
    "# Calculate evaluation metrics\n",
    "mae_lr = mean_absolute_error(y_test, y_pred_lr)\n",
    "r2_lr = r2_score(y_test, y_pred_lr)\n",
    "\n",
    "# Print results\n",
    "print(\"Linear Regression Results:\")\n",
    "print(f\"Cross-Validated RMSE: {rmse_lr:.4f}\")\n",
    "print(f\"MAE: {mae_lr:.4f}\")\n",
    "print(f\"R² Score: {r2_lr:.4f}\")\n"
   ]
  },
  {
   "cell_type": "code",
   "execution_count": 54,
   "id": "18194fc9-1abc-4493-a736-0ec58f6c675c",
   "metadata": {},
   "outputs": [],
   "source": [
    "#Fit: The R² score of 0.0427 indicates that the Linear Regression model explains only about 4.27% of the variance in the target variable (price). \n",
    "#This suggests that the model is not capturing much of the variability in the data and is underfitting."
   ]
  },
  {
   "cell_type": "code",
   "execution_count": 55,
   "id": "dd9831d3-039f-435c-bb88-b79a794cd669",
   "metadata": {},
   "outputs": [
    {
     "name": "stdout",
     "output_type": "stream",
     "text": [
      "Decision Tree Regression Results:\n",
      "Best Parameters: {'max_depth': 10, 'min_samples_leaf': 1, 'min_samples_split': 10}\n",
      "Cross-Validated RMSE: 6082464.2985\n",
      "MAE: 815596.7357\n",
      "R² Score: 0.6626\n"
     ]
    }
   ],
   "source": [
    "# Decision Tree Regression with Hyperparameter Tuning\n",
    "from sklearn.tree import DecisionTreeRegressor\n",
    "from sklearn.model_selection import GridSearchCV\n",
    "\n",
    "# Define parameter grid for GridSearchCV\n",
    "param_grid = {\n",
    "    'max_depth': [None, 10, 20, 30],\n",
    "    'min_samples_split': [2, 5, 10],\n",
    "    'min_samples_leaf': [1, 2, 4]\n",
    "}\n",
    "\n",
    "# Initialize Decision Tree Regression model\n",
    "model_dt = DecisionTreeRegressor(random_state=42)\n",
    "\n",
    "# GridSearchCV for hyperparameter tuning\n",
    "grid_search_dt = GridSearchCV(model_dt, param_grid, cv=5, scoring='neg_mean_squared_error')\n",
    "grid_search_dt.fit(X_train, y_train)\n",
    "\n",
    "# Best parameters and best score\n",
    "best_params_dt = grid_search_dt.best_params_\n",
    "best_score_dt = np.sqrt(-grid_search_dt.best_score_)\n",
    "\n",
    "# Fit model with best parameters\n",
    "model_dt_best = grid_search_dt.best_estimator_\n",
    "model_dt_best.fit(X_train, y_train)\n",
    "\n",
    "# Predict on test set\n",
    "y_pred_dt = model_dt_best.predict(X_test)\n",
    "\n",
    "# Calculate evaluation metrics\n",
    "mae_dt = mean_absolute_error(y_test, y_pred_dt)\n",
    "r2_dt = r2_score(y_test, y_pred_dt)\n",
    "\n",
    "# Print results\n",
    "print(\"Decision Tree Regression Results:\")\n",
    "print(f\"Best Parameters: {best_params_dt}\")\n",
    "print(f\"Cross-Validated RMSE: {best_score_dt:.4f}\")\n",
    "print(f\"MAE: {mae_dt:.4f}\")\n",
    "print(f\"R² Score: {r2_dt:.4f}\")\n",
    "\n"
   ]
  },
  {
   "cell_type": "code",
   "execution_count": 56,
   "id": "8813530a-c95a-4101-9cfd-aab9c37cd486",
   "metadata": {},
   "outputs": [],
   "source": [
    "#Fit: The Decision Tree Regression model shows a significantly better R² score of 0.6830, indicating that it explains approximately 68.30% of the variance in the target variable. \n",
    "#This suggests a much better fit compared to Linear Regression."
   ]
  },
  {
   "cell_type": "code",
   "execution_count": 57,
   "id": "850847c5-5a96-4f7d-888d-1d3a7e059d5e",
   "metadata": {},
   "outputs": [
    {
     "name": "stderr",
     "output_type": "stream",
     "text": [
      "C:\\Users\\admin\\AppData\\Local\\Programs\\Python\\Python312\\Lib\\site-packages\\sklearn\\linear_model\\_ridge.py:216: LinAlgWarning: Ill-conditioned matrix (rcond=9.6927e-17): result may not be accurate.\n",
      "  return linalg.solve(A, Xy, assume_a=\"pos\", overwrite_a=True).T\n",
      "C:\\Users\\admin\\AppData\\Local\\Programs\\Python\\Python312\\Lib\\site-packages\\sklearn\\linear_model\\_ridge.py:216: LinAlgWarning: Ill-conditioned matrix (rcond=9.6025e-17): result may not be accurate.\n",
      "  return linalg.solve(A, Xy, assume_a=\"pos\", overwrite_a=True).T\n",
      "C:\\Users\\admin\\AppData\\Local\\Programs\\Python\\Python312\\Lib\\site-packages\\sklearn\\linear_model\\_ridge.py:216: LinAlgWarning: Ill-conditioned matrix (rcond=9.64709e-17): result may not be accurate.\n",
      "  return linalg.solve(A, Xy, assume_a=\"pos\", overwrite_a=True).T\n",
      "C:\\Users\\admin\\AppData\\Local\\Programs\\Python\\Python312\\Lib\\site-packages\\sklearn\\linear_model\\_ridge.py:216: LinAlgWarning: Ill-conditioned matrix (rcond=9.69858e-17): result may not be accurate.\n",
      "  return linalg.solve(A, Xy, assume_a=\"pos\", overwrite_a=True).T\n",
      "C:\\Users\\admin\\AppData\\Local\\Programs\\Python\\Python312\\Lib\\site-packages\\sklearn\\linear_model\\_ridge.py:216: LinAlgWarning: Ill-conditioned matrix (rcond=9.60592e-17): result may not be accurate.\n",
      "  return linalg.solve(A, Xy, assume_a=\"pos\", overwrite_a=True).T\n"
     ]
    },
    {
     "name": "stdout",
     "output_type": "stream",
     "text": [
      "Ridge Regression Results:\n",
      "Best Alpha: 1.0\n",
      "MAE: 2506164.4414\n",
      "R² Score: 0.0425\n"
     ]
    }
   ],
   "source": [
    "# Ridge Regression\n",
    "from sklearn.linear_model import RidgeCV\n",
    "\n",
    "# Initialize Ridge Regression model with cross-validation\n",
    "alphas = [0.1, 1.0, 10.0]\n",
    "model_ridge = RidgeCV(alphas=alphas, cv=5)\n",
    "\n",
    "# Fit model\n",
    "model_ridge.fit(X_train, y_train)\n",
    "\n",
    "# Predict on test set\n",
    "y_pred_ridge = model_ridge.predict(X_test)\n",
    "\n",
    "# Calculate evaluation metrics\n",
    "mae_ridge = mean_absolute_error(y_test, y_pred_ridge)\n",
    "r2_ridge = r2_score(y_test, y_pred_ridge)\n",
    "\n",
    "# Print results\n",
    "print(\"Ridge Regression Results:\")\n",
    "print(f\"Best Alpha: {model_ridge.alpha_}\")\n",
    "print(f\"MAE: {mae_ridge:.4f}\")\n",
    "print(f\"R² Score: {r2_ridge:.4f}\")\n"
   ]
  },
  {
   "cell_type": "code",
   "execution_count": 58,
   "id": "4555554e-2047-4777-85eb-63bb44d92cc5",
   "metadata": {},
   "outputs": [],
   "source": [
    "#Fit: The Ridge Regression model shows an R² score similar to that of Linear Regression, at 0.0427, indicating a similar level of fit to the data."
   ]
  },
  {
   "cell_type": "markdown",
   "id": "595fa327-1dec-419e-80bf-c84f44c682b7",
   "metadata": {},
   "source": [
    "# Section 2: User Segmentation"
   ]
  },
  {
   "cell_type": "code",
   "execution_count": 60,
   "id": "6c0b2cb6-778a-48c8-b022-a1ece4736a43",
   "metadata": {},
   "outputs": [
    {
     "ename": "TypeError",
     "evalue": "can only concatenate str (not \"int\") to str",
     "output_type": "error",
     "traceback": [
      "\u001b[1;31m---------------------------------------------------------------------------\u001b[0m",
      "\u001b[1;31mTypeError\u001b[0m                                 Traceback (most recent call last)",
      "Cell \u001b[1;32mIn[60], line 2\u001b[0m\n\u001b[0;32m      1\u001b[0m \u001b[38;5;66;03m# Fill missing values with the mean for numerical columns and mode for categorical columns\u001b[39;00m\n\u001b[1;32m----> 2\u001b[0m df\u001b[38;5;241m.\u001b[39mfillna(\u001b[43mdf\u001b[49m\u001b[38;5;241;43m.\u001b[39;49m\u001b[43mmean\u001b[49m\u001b[43m(\u001b[49m\u001b[43m)\u001b[49m, inplace\u001b[38;5;241m=\u001b[39m\u001b[38;5;28;01mTrue\u001b[39;00m)\n\u001b[0;32m      3\u001b[0m df\u001b[38;5;241m.\u001b[39mfillna(df\u001b[38;5;241m.\u001b[39mmode()\u001b[38;5;241m.\u001b[39miloc[\u001b[38;5;241m0\u001b[39m], inplace\u001b[38;5;241m=\u001b[39m\u001b[38;5;28;01mTrue\u001b[39;00m)\n",
      "File \u001b[1;32m~\\AppData\\Local\\Programs\\Python\\Python312\\Lib\\site-packages\\pandas\\core\\frame.py:11693\u001b[0m, in \u001b[0;36mDataFrame.mean\u001b[1;34m(self, axis, skipna, numeric_only, **kwargs)\u001b[0m\n\u001b[0;32m  11685\u001b[0m \u001b[38;5;129m@doc\u001b[39m(make_doc(\u001b[38;5;124m\"\u001b[39m\u001b[38;5;124mmean\u001b[39m\u001b[38;5;124m\"\u001b[39m, ndim\u001b[38;5;241m=\u001b[39m\u001b[38;5;241m2\u001b[39m))\n\u001b[0;32m  11686\u001b[0m \u001b[38;5;28;01mdef\u001b[39;00m \u001b[38;5;21mmean\u001b[39m(\n\u001b[0;32m  11687\u001b[0m     \u001b[38;5;28mself\u001b[39m,\n\u001b[1;32m   (...)\u001b[0m\n\u001b[0;32m  11691\u001b[0m     \u001b[38;5;241m*\u001b[39m\u001b[38;5;241m*\u001b[39mkwargs,\n\u001b[0;32m  11692\u001b[0m ):\n\u001b[1;32m> 11693\u001b[0m     result \u001b[38;5;241m=\u001b[39m \u001b[38;5;28;43msuper\u001b[39;49m\u001b[43m(\u001b[49m\u001b[43m)\u001b[49m\u001b[38;5;241;43m.\u001b[39;49m\u001b[43mmean\u001b[49m\u001b[43m(\u001b[49m\u001b[43maxis\u001b[49m\u001b[43m,\u001b[49m\u001b[43m \u001b[49m\u001b[43mskipna\u001b[49m\u001b[43m,\u001b[49m\u001b[43m \u001b[49m\u001b[43mnumeric_only\u001b[49m\u001b[43m,\u001b[49m\u001b[43m \u001b[49m\u001b[38;5;241;43m*\u001b[39;49m\u001b[38;5;241;43m*\u001b[39;49m\u001b[43mkwargs\u001b[49m\u001b[43m)\u001b[49m\n\u001b[0;32m  11694\u001b[0m     \u001b[38;5;28;01mif\u001b[39;00m \u001b[38;5;28misinstance\u001b[39m(result, Series):\n\u001b[0;32m  11695\u001b[0m         result \u001b[38;5;241m=\u001b[39m result\u001b[38;5;241m.\u001b[39m__finalize__(\u001b[38;5;28mself\u001b[39m, method\u001b[38;5;241m=\u001b[39m\u001b[38;5;124m\"\u001b[39m\u001b[38;5;124mmean\u001b[39m\u001b[38;5;124m\"\u001b[39m)\n",
      "File \u001b[1;32m~\\AppData\\Local\\Programs\\Python\\Python312\\Lib\\site-packages\\pandas\\core\\generic.py:12420\u001b[0m, in \u001b[0;36mNDFrame.mean\u001b[1;34m(self, axis, skipna, numeric_only, **kwargs)\u001b[0m\n\u001b[0;32m  12413\u001b[0m \u001b[38;5;28;01mdef\u001b[39;00m \u001b[38;5;21mmean\u001b[39m(\n\u001b[0;32m  12414\u001b[0m     \u001b[38;5;28mself\u001b[39m,\n\u001b[0;32m  12415\u001b[0m     axis: Axis \u001b[38;5;241m|\u001b[39m \u001b[38;5;28;01mNone\u001b[39;00m \u001b[38;5;241m=\u001b[39m \u001b[38;5;241m0\u001b[39m,\n\u001b[1;32m   (...)\u001b[0m\n\u001b[0;32m  12418\u001b[0m     \u001b[38;5;241m*\u001b[39m\u001b[38;5;241m*\u001b[39mkwargs,\n\u001b[0;32m  12419\u001b[0m ) \u001b[38;5;241m-\u001b[39m\u001b[38;5;241m>\u001b[39m Series \u001b[38;5;241m|\u001b[39m \u001b[38;5;28mfloat\u001b[39m:\n\u001b[1;32m> 12420\u001b[0m     \u001b[38;5;28;01mreturn\u001b[39;00m \u001b[38;5;28;43mself\u001b[39;49m\u001b[38;5;241;43m.\u001b[39;49m\u001b[43m_stat_function\u001b[49m\u001b[43m(\u001b[49m\n\u001b[0;32m  12421\u001b[0m \u001b[43m        \u001b[49m\u001b[38;5;124;43m\"\u001b[39;49m\u001b[38;5;124;43mmean\u001b[39;49m\u001b[38;5;124;43m\"\u001b[39;49m\u001b[43m,\u001b[49m\u001b[43m \u001b[49m\u001b[43mnanops\u001b[49m\u001b[38;5;241;43m.\u001b[39;49m\u001b[43mnanmean\u001b[49m\u001b[43m,\u001b[49m\u001b[43m \u001b[49m\u001b[43maxis\u001b[49m\u001b[43m,\u001b[49m\u001b[43m \u001b[49m\u001b[43mskipna\u001b[49m\u001b[43m,\u001b[49m\u001b[43m \u001b[49m\u001b[43mnumeric_only\u001b[49m\u001b[43m,\u001b[49m\u001b[43m \u001b[49m\u001b[38;5;241;43m*\u001b[39;49m\u001b[38;5;241;43m*\u001b[39;49m\u001b[43mkwargs\u001b[49m\n\u001b[0;32m  12422\u001b[0m \u001b[43m    \u001b[49m\u001b[43m)\u001b[49m\n",
      "File \u001b[1;32m~\\AppData\\Local\\Programs\\Python\\Python312\\Lib\\site-packages\\pandas\\core\\generic.py:12377\u001b[0m, in \u001b[0;36mNDFrame._stat_function\u001b[1;34m(self, name, func, axis, skipna, numeric_only, **kwargs)\u001b[0m\n\u001b[0;32m  12373\u001b[0m nv\u001b[38;5;241m.\u001b[39mvalidate_func(name, (), kwargs)\n\u001b[0;32m  12375\u001b[0m validate_bool_kwarg(skipna, \u001b[38;5;124m\"\u001b[39m\u001b[38;5;124mskipna\u001b[39m\u001b[38;5;124m\"\u001b[39m, none_allowed\u001b[38;5;241m=\u001b[39m\u001b[38;5;28;01mFalse\u001b[39;00m)\n\u001b[1;32m> 12377\u001b[0m \u001b[38;5;28;01mreturn\u001b[39;00m \u001b[38;5;28;43mself\u001b[39;49m\u001b[38;5;241;43m.\u001b[39;49m\u001b[43m_reduce\u001b[49m\u001b[43m(\u001b[49m\n\u001b[0;32m  12378\u001b[0m \u001b[43m    \u001b[49m\u001b[43mfunc\u001b[49m\u001b[43m,\u001b[49m\u001b[43m \u001b[49m\u001b[43mname\u001b[49m\u001b[38;5;241;43m=\u001b[39;49m\u001b[43mname\u001b[49m\u001b[43m,\u001b[49m\u001b[43m \u001b[49m\u001b[43maxis\u001b[49m\u001b[38;5;241;43m=\u001b[39;49m\u001b[43maxis\u001b[49m\u001b[43m,\u001b[49m\u001b[43m \u001b[49m\u001b[43mskipna\u001b[49m\u001b[38;5;241;43m=\u001b[39;49m\u001b[43mskipna\u001b[49m\u001b[43m,\u001b[49m\u001b[43m \u001b[49m\u001b[43mnumeric_only\u001b[49m\u001b[38;5;241;43m=\u001b[39;49m\u001b[43mnumeric_only\u001b[49m\n\u001b[0;32m  12379\u001b[0m \u001b[43m\u001b[49m\u001b[43m)\u001b[49m\n",
      "File \u001b[1;32m~\\AppData\\Local\\Programs\\Python\\Python312\\Lib\\site-packages\\pandas\\core\\frame.py:11562\u001b[0m, in \u001b[0;36mDataFrame._reduce\u001b[1;34m(self, op, name, axis, skipna, numeric_only, filter_type, **kwds)\u001b[0m\n\u001b[0;32m  11558\u001b[0m     df \u001b[38;5;241m=\u001b[39m df\u001b[38;5;241m.\u001b[39mT\n\u001b[0;32m  11560\u001b[0m \u001b[38;5;66;03m# After possibly _get_data and transposing, we are now in the\u001b[39;00m\n\u001b[0;32m  11561\u001b[0m \u001b[38;5;66;03m#  simple case where we can use BlockManager.reduce\u001b[39;00m\n\u001b[1;32m> 11562\u001b[0m res \u001b[38;5;241m=\u001b[39m \u001b[43mdf\u001b[49m\u001b[38;5;241;43m.\u001b[39;49m\u001b[43m_mgr\u001b[49m\u001b[38;5;241;43m.\u001b[39;49m\u001b[43mreduce\u001b[49m\u001b[43m(\u001b[49m\u001b[43mblk_func\u001b[49m\u001b[43m)\u001b[49m\n\u001b[0;32m  11563\u001b[0m out \u001b[38;5;241m=\u001b[39m df\u001b[38;5;241m.\u001b[39m_constructor_from_mgr(res, axes\u001b[38;5;241m=\u001b[39mres\u001b[38;5;241m.\u001b[39maxes)\u001b[38;5;241m.\u001b[39miloc[\u001b[38;5;241m0\u001b[39m]\n\u001b[0;32m  11564\u001b[0m \u001b[38;5;28;01mif\u001b[39;00m out_dtype \u001b[38;5;129;01mis\u001b[39;00m \u001b[38;5;129;01mnot\u001b[39;00m \u001b[38;5;28;01mNone\u001b[39;00m \u001b[38;5;129;01mand\u001b[39;00m out\u001b[38;5;241m.\u001b[39mdtype \u001b[38;5;241m!=\u001b[39m \u001b[38;5;124m\"\u001b[39m\u001b[38;5;124mboolean\u001b[39m\u001b[38;5;124m\"\u001b[39m:\n",
      "File \u001b[1;32m~\\AppData\\Local\\Programs\\Python\\Python312\\Lib\\site-packages\\pandas\\core\\internals\\managers.py:1500\u001b[0m, in \u001b[0;36mBlockManager.reduce\u001b[1;34m(self, func)\u001b[0m\n\u001b[0;32m   1498\u001b[0m res_blocks: \u001b[38;5;28mlist\u001b[39m[Block] \u001b[38;5;241m=\u001b[39m []\n\u001b[0;32m   1499\u001b[0m \u001b[38;5;28;01mfor\u001b[39;00m blk \u001b[38;5;129;01min\u001b[39;00m \u001b[38;5;28mself\u001b[39m\u001b[38;5;241m.\u001b[39mblocks:\n\u001b[1;32m-> 1500\u001b[0m     nbs \u001b[38;5;241m=\u001b[39m \u001b[43mblk\u001b[49m\u001b[38;5;241;43m.\u001b[39;49m\u001b[43mreduce\u001b[49m\u001b[43m(\u001b[49m\u001b[43mfunc\u001b[49m\u001b[43m)\u001b[49m\n\u001b[0;32m   1501\u001b[0m     res_blocks\u001b[38;5;241m.\u001b[39mextend(nbs)\n\u001b[0;32m   1503\u001b[0m index \u001b[38;5;241m=\u001b[39m Index([\u001b[38;5;28;01mNone\u001b[39;00m])  \u001b[38;5;66;03m# placeholder\u001b[39;00m\n",
      "File \u001b[1;32m~\\AppData\\Local\\Programs\\Python\\Python312\\Lib\\site-packages\\pandas\\core\\internals\\blocks.py:404\u001b[0m, in \u001b[0;36mBlock.reduce\u001b[1;34m(self, func)\u001b[0m\n\u001b[0;32m    398\u001b[0m \u001b[38;5;129m@final\u001b[39m\n\u001b[0;32m    399\u001b[0m \u001b[38;5;28;01mdef\u001b[39;00m \u001b[38;5;21mreduce\u001b[39m(\u001b[38;5;28mself\u001b[39m, func) \u001b[38;5;241m-\u001b[39m\u001b[38;5;241m>\u001b[39m \u001b[38;5;28mlist\u001b[39m[Block]:\n\u001b[0;32m    400\u001b[0m     \u001b[38;5;66;03m# We will apply the function and reshape the result into a single-row\u001b[39;00m\n\u001b[0;32m    401\u001b[0m     \u001b[38;5;66;03m#  Block with the same mgr_locs; squeezing will be done at a higher level\u001b[39;00m\n\u001b[0;32m    402\u001b[0m     \u001b[38;5;28;01massert\u001b[39;00m \u001b[38;5;28mself\u001b[39m\u001b[38;5;241m.\u001b[39mndim \u001b[38;5;241m==\u001b[39m \u001b[38;5;241m2\u001b[39m\n\u001b[1;32m--> 404\u001b[0m     result \u001b[38;5;241m=\u001b[39m \u001b[43mfunc\u001b[49m\u001b[43m(\u001b[49m\u001b[38;5;28;43mself\u001b[39;49m\u001b[38;5;241;43m.\u001b[39;49m\u001b[43mvalues\u001b[49m\u001b[43m)\u001b[49m\n\u001b[0;32m    406\u001b[0m     \u001b[38;5;28;01mif\u001b[39;00m \u001b[38;5;28mself\u001b[39m\u001b[38;5;241m.\u001b[39mvalues\u001b[38;5;241m.\u001b[39mndim \u001b[38;5;241m==\u001b[39m \u001b[38;5;241m1\u001b[39m:\n\u001b[0;32m    407\u001b[0m         res_values \u001b[38;5;241m=\u001b[39m result\n",
      "File \u001b[1;32m~\\AppData\\Local\\Programs\\Python\\Python312\\Lib\\site-packages\\pandas\\core\\frame.py:11481\u001b[0m, in \u001b[0;36mDataFrame._reduce.<locals>.blk_func\u001b[1;34m(values, axis)\u001b[0m\n\u001b[0;32m  11479\u001b[0m         \u001b[38;5;28;01mreturn\u001b[39;00m np\u001b[38;5;241m.\u001b[39marray([result])\n\u001b[0;32m  11480\u001b[0m \u001b[38;5;28;01melse\u001b[39;00m:\n\u001b[1;32m> 11481\u001b[0m     \u001b[38;5;28;01mreturn\u001b[39;00m \u001b[43mop\u001b[49m\u001b[43m(\u001b[49m\u001b[43mvalues\u001b[49m\u001b[43m,\u001b[49m\u001b[43m \u001b[49m\u001b[43maxis\u001b[49m\u001b[38;5;241;43m=\u001b[39;49m\u001b[43maxis\u001b[49m\u001b[43m,\u001b[49m\u001b[43m \u001b[49m\u001b[43mskipna\u001b[49m\u001b[38;5;241;43m=\u001b[39;49m\u001b[43mskipna\u001b[49m\u001b[43m,\u001b[49m\u001b[43m \u001b[49m\u001b[38;5;241;43m*\u001b[39;49m\u001b[38;5;241;43m*\u001b[39;49m\u001b[43mkwds\u001b[49m\u001b[43m)\u001b[49m\n",
      "File \u001b[1;32m~\\AppData\\Local\\Programs\\Python\\Python312\\Lib\\site-packages\\pandas\\core\\nanops.py:147\u001b[0m, in \u001b[0;36mbottleneck_switch.__call__.<locals>.f\u001b[1;34m(values, axis, skipna, **kwds)\u001b[0m\n\u001b[0;32m    145\u001b[0m         result \u001b[38;5;241m=\u001b[39m alt(values, axis\u001b[38;5;241m=\u001b[39maxis, skipna\u001b[38;5;241m=\u001b[39mskipna, \u001b[38;5;241m*\u001b[39m\u001b[38;5;241m*\u001b[39mkwds)\n\u001b[0;32m    146\u001b[0m \u001b[38;5;28;01melse\u001b[39;00m:\n\u001b[1;32m--> 147\u001b[0m     result \u001b[38;5;241m=\u001b[39m \u001b[43malt\u001b[49m\u001b[43m(\u001b[49m\u001b[43mvalues\u001b[49m\u001b[43m,\u001b[49m\u001b[43m \u001b[49m\u001b[43maxis\u001b[49m\u001b[38;5;241;43m=\u001b[39;49m\u001b[43maxis\u001b[49m\u001b[43m,\u001b[49m\u001b[43m \u001b[49m\u001b[43mskipna\u001b[49m\u001b[38;5;241;43m=\u001b[39;49m\u001b[43mskipna\u001b[49m\u001b[43m,\u001b[49m\u001b[43m \u001b[49m\u001b[38;5;241;43m*\u001b[39;49m\u001b[38;5;241;43m*\u001b[39;49m\u001b[43mkwds\u001b[49m\u001b[43m)\u001b[49m\n\u001b[0;32m    149\u001b[0m \u001b[38;5;28;01mreturn\u001b[39;00m result\n",
      "File \u001b[1;32m~\\AppData\\Local\\Programs\\Python\\Python312\\Lib\\site-packages\\pandas\\core\\nanops.py:404\u001b[0m, in \u001b[0;36m_datetimelike_compat.<locals>.new_func\u001b[1;34m(values, axis, skipna, mask, **kwargs)\u001b[0m\n\u001b[0;32m    401\u001b[0m \u001b[38;5;28;01mif\u001b[39;00m datetimelike \u001b[38;5;129;01mand\u001b[39;00m mask \u001b[38;5;129;01mis\u001b[39;00m \u001b[38;5;28;01mNone\u001b[39;00m:\n\u001b[0;32m    402\u001b[0m     mask \u001b[38;5;241m=\u001b[39m isna(values)\n\u001b[1;32m--> 404\u001b[0m result \u001b[38;5;241m=\u001b[39m \u001b[43mfunc\u001b[49m\u001b[43m(\u001b[49m\u001b[43mvalues\u001b[49m\u001b[43m,\u001b[49m\u001b[43m \u001b[49m\u001b[43maxis\u001b[49m\u001b[38;5;241;43m=\u001b[39;49m\u001b[43maxis\u001b[49m\u001b[43m,\u001b[49m\u001b[43m \u001b[49m\u001b[43mskipna\u001b[49m\u001b[38;5;241;43m=\u001b[39;49m\u001b[43mskipna\u001b[49m\u001b[43m,\u001b[49m\u001b[43m \u001b[49m\u001b[43mmask\u001b[49m\u001b[38;5;241;43m=\u001b[39;49m\u001b[43mmask\u001b[49m\u001b[43m,\u001b[49m\u001b[43m \u001b[49m\u001b[38;5;241;43m*\u001b[39;49m\u001b[38;5;241;43m*\u001b[39;49m\u001b[43mkwargs\u001b[49m\u001b[43m)\u001b[49m\n\u001b[0;32m    406\u001b[0m \u001b[38;5;28;01mif\u001b[39;00m datetimelike:\n\u001b[0;32m    407\u001b[0m     result \u001b[38;5;241m=\u001b[39m _wrap_results(result, orig_values\u001b[38;5;241m.\u001b[39mdtype, fill_value\u001b[38;5;241m=\u001b[39miNaT)\n",
      "File \u001b[1;32m~\\AppData\\Local\\Programs\\Python\\Python312\\Lib\\site-packages\\pandas\\core\\nanops.py:719\u001b[0m, in \u001b[0;36mnanmean\u001b[1;34m(values, axis, skipna, mask)\u001b[0m\n\u001b[0;32m    716\u001b[0m     dtype_count \u001b[38;5;241m=\u001b[39m dtype\n\u001b[0;32m    718\u001b[0m count \u001b[38;5;241m=\u001b[39m _get_counts(values\u001b[38;5;241m.\u001b[39mshape, mask, axis, dtype\u001b[38;5;241m=\u001b[39mdtype_count)\n\u001b[1;32m--> 719\u001b[0m the_sum \u001b[38;5;241m=\u001b[39m \u001b[43mvalues\u001b[49m\u001b[38;5;241;43m.\u001b[39;49m\u001b[43msum\u001b[49m\u001b[43m(\u001b[49m\u001b[43maxis\u001b[49m\u001b[43m,\u001b[49m\u001b[43m \u001b[49m\u001b[43mdtype\u001b[49m\u001b[38;5;241;43m=\u001b[39;49m\u001b[43mdtype_sum\u001b[49m\u001b[43m)\u001b[49m\n\u001b[0;32m    720\u001b[0m the_sum \u001b[38;5;241m=\u001b[39m _ensure_numeric(the_sum)\n\u001b[0;32m    722\u001b[0m \u001b[38;5;28;01mif\u001b[39;00m axis \u001b[38;5;129;01mis\u001b[39;00m \u001b[38;5;129;01mnot\u001b[39;00m \u001b[38;5;28;01mNone\u001b[39;00m \u001b[38;5;129;01mand\u001b[39;00m \u001b[38;5;28mgetattr\u001b[39m(the_sum, \u001b[38;5;124m\"\u001b[39m\u001b[38;5;124mndim\u001b[39m\u001b[38;5;124m\"\u001b[39m, \u001b[38;5;28;01mFalse\u001b[39;00m):\n",
      "File \u001b[1;32m~\\AppData\\Local\\Programs\\Python\\Python312\\Lib\\site-packages\\numpy\\core\\_methods.py:49\u001b[0m, in \u001b[0;36m_sum\u001b[1;34m(a, axis, dtype, out, keepdims, initial, where)\u001b[0m\n\u001b[0;32m     47\u001b[0m \u001b[38;5;28;01mdef\u001b[39;00m \u001b[38;5;21m_sum\u001b[39m(a, axis\u001b[38;5;241m=\u001b[39m\u001b[38;5;28;01mNone\u001b[39;00m, dtype\u001b[38;5;241m=\u001b[39m\u001b[38;5;28;01mNone\u001b[39;00m, out\u001b[38;5;241m=\u001b[39m\u001b[38;5;28;01mNone\u001b[39;00m, keepdims\u001b[38;5;241m=\u001b[39m\u001b[38;5;28;01mFalse\u001b[39;00m,\n\u001b[0;32m     48\u001b[0m          initial\u001b[38;5;241m=\u001b[39m_NoValue, where\u001b[38;5;241m=\u001b[39m\u001b[38;5;28;01mTrue\u001b[39;00m):\n\u001b[1;32m---> 49\u001b[0m     \u001b[38;5;28;01mreturn\u001b[39;00m \u001b[43mumr_sum\u001b[49m\u001b[43m(\u001b[49m\u001b[43ma\u001b[49m\u001b[43m,\u001b[49m\u001b[43m \u001b[49m\u001b[43maxis\u001b[49m\u001b[43m,\u001b[49m\u001b[43m \u001b[49m\u001b[43mdtype\u001b[49m\u001b[43m,\u001b[49m\u001b[43m \u001b[49m\u001b[43mout\u001b[49m\u001b[43m,\u001b[49m\u001b[43m \u001b[49m\u001b[43mkeepdims\u001b[49m\u001b[43m,\u001b[49m\u001b[43m \u001b[49m\u001b[43minitial\u001b[49m\u001b[43m,\u001b[49m\u001b[43m \u001b[49m\u001b[43mwhere\u001b[49m\u001b[43m)\u001b[49m\n",
      "\u001b[1;31mTypeError\u001b[0m: can only concatenate str (not \"int\") to str"
     ]
    }
   ],
   "source": [
    "# Fill missing values with the mean for numerical columns and mode for categorical columns\n",
    "df.fillna(df.mean(), inplace=True)\n",
    "df.fillna(df.mode().iloc[0], inplace=True)\n"
   ]
  },
  {
   "cell_type": "code",
   "execution_count": 61,
   "id": "5c739bdb-fab5-4964-9408-2f44ef18dca8",
   "metadata": {},
   "outputs": [],
   "source": [
    "from sklearn.preprocessing import LabelEncoder\n",
    "\n",
    "# Encode categorical variables\n",
    "label_encoders = {}\n",
    "for column in df.select_dtypes(include=['object']).columns:\n",
    "    le = LabelEncoder()\n",
    "    df[column] = le.fit_transform(df[column])\n",
    "    label_encoders[column] = le\n"
   ]
  },
  {
   "cell_type": "code",
   "execution_count": 62,
   "id": "db3acf92-ae86-4b42-9d0f-b49d309a1867",
   "metadata": {},
   "outputs": [
    {
     "name": "stdout",
     "output_type": "stream",
     "text": [
      "        PC1       PC2       PC3       PC4       PC5       PC6       PC7  \\\n",
      "0 -1.992448  0.588794  0.236260 -0.849913  0.692027 -0.871926  0.308085   \n",
      "1 -1.783234  0.542155 -0.947223 -0.808727 -1.814540  1.447894  0.342271   \n",
      "2 -1.783265  0.541588 -0.939984 -0.807855 -1.815625  1.448202  0.342562   \n",
      "3 -2.937777  1.386510  0.339881 -1.014656  1.423503 -1.481246 -0.483027   \n",
      "4 -2.827785  1.356974  0.013430 -1.007955 -0.568673  0.052327 -0.506442   \n",
      "\n",
      "        PC8       PC9      PC10      PC11  \n",
      "0  0.451997  0.085958 -0.270904  0.031101  \n",
      "1  0.408883  0.130714 -0.428231 -0.113319  \n",
      "2  0.407849  0.130887 -0.434222 -0.110476  \n",
      "3  0.767812  0.277554  0.386019  0.757120  \n",
      "4  0.917281  0.168043  1.534197  0.514278  \n"
     ]
    }
   ],
   "source": [
    "from sklearn.preprocessing import StandardScaler\n",
    "from sklearn.decomposition import PCA\n",
    "import pandas as pd\n",
    "\n",
    "# Exclude non-numeric columns\n",
    "numeric_df = df.select_dtypes(include=['number'])\n",
    "\n",
    "# Standardize the numeric features\n",
    "scaler = StandardScaler()\n",
    "scaled_df = scaler.fit_transform(numeric_df)\n",
    "\n",
    "# Applying PCA\n",
    "pca = PCA(n_components=0.95)  # Keeps 95% of variance\n",
    "principal_components = pca.fit_transform(scaled_df)\n",
    "\n",
    "# Creating a DataFrame with principal components\n",
    "df_pca = pd.DataFrame(data=principal_components, columns=[f'PC{i+1}' for i in range(principal_components.shape[1])])\n",
    "\n",
    "# Print the resulting PCA DataFrame\n",
    "print(df_pca.head())\n"
   ]
  },
  {
   "cell_type": "code",
   "execution_count": 63,
   "id": "dbf6e95e-d1a8-4993-8ec7-520cd5c09604",
   "metadata": {},
   "outputs": [
    {
     "data": {
      "image/png": "[encoded data removed]",
      "text/plain": [
       "<Figure size 640x480 with 1 Axes>"
      ]
     },
     "metadata": {},
     "output_type": "display_data"
    },
    {
     "name": "stdout",
     "output_type": "stream",
     "text": [
      "For n_clusters = 2, the average silhouette score is: 0.1892932282670404\n",
      "              details      type         price                     timestamp  \\\n",
      "Cluster                                                                       \n",
      "0        85117.536934  0.007180  2.076089e+06 1900-06-19 23:20:04.746100224   \n",
      "1        77695.452298  0.000011  2.339012e+06 1900-05-30 05:47:51.347272192   \n",
      "2        87132.692911  0.006885  1.549663e+06 1900-06-19 19:23:36.540482560   \n",
      "\n",
      "                                posted_date  \\\n",
      "Cluster                                       \n",
      "0       2023-01-06 11:23:26.735854336+05:30   \n",
      "1       2023-01-13 16:39:59.185692672+05:30   \n",
      "2       2023-01-06 12:41:49.627453184+05:30   \n",
      "\n",
      "                          deactivation_date  category  parent_category  \\\n",
      "Cluster                                                                  \n",
      "0       2023-03-05 16:33:40.789119744+00:00  6.300817              0.0   \n",
      "1       2023-02-12 20:17:32.144656128+00:00  2.799355              0.0   \n",
      "2       2023-03-05 16:30:16.656772352+00:00  6.687206              0.0   \n",
      "\n",
      "           location  geo_region  ...  is_authorized_dealer  \\\n",
      "Cluster                          ...                         \n",
      "0         95.855057    3.812202  ...              0.000000   \n",
      "1        108.419773    1.712723  ...              0.000476   \n",
      "2        124.932032   10.442917  ...              0.000000   \n",
      "\n",
      "         is_featured_member  is_verified  membership_level  member_since  \\\n",
      "Cluster                                                                    \n",
      "0                  0.000000     0.034696          0.110004     87.738565   \n",
      "1                  0.000152     0.668406          1.699947     36.714716   \n",
      "2                  0.000000     0.048214          0.161072     84.220997   \n",
      "\n",
      "             area_id  area_name        Brand        Model  Condition  \n",
      "Cluster                                                               \n",
      "0        1547.916178   5.426186  3775.304974  4748.576456   1.969123  \n",
      "1        1537.517015   5.126607  3944.287471  5035.535531   1.271014  \n",
      "2        1721.918155  16.463807  3668.738724  4721.668418   1.930895  \n",
      "\n",
      "[3 rows x 24 columns]\n"
     ]
    },
    {
     "data": {
      "image/png": "[encoded data removed]",
      "text/plain": [
       "<Figure size 640x480 with 1 Axes>"
      ]
     },
     "metadata": {},
     "output_type": "display_data"
    }
   ],
   "source": [
    "# Import necessary libraries\n",
    "import matplotlib.pyplot as plt\n",
    "from sklearn.cluster import KMeans\n",
    "from sklearn.metrics import silhouette_score\n",
    "import seaborn as sns\n",
    "\n",
    "# 1. Exclude non-numeric columns\n",
    "numeric_df = df.select_dtypes(include=['number'])\n",
    "\n",
    "# 2. Standardize the numeric features\n",
    "scaler = StandardScaler()\n",
    "scaled_df = scaler.fit_transform(numeric_df)\n",
    "\n",
    "# 3. Applying PCA\n",
    "pca = PCA(n_components=0.95)  # Keeps 95% of variance\n",
    "principal_components = pca.fit_transform(scaled_df)\n",
    "\n",
    "# 4. Creating a DataFrame with principal components\n",
    "df_pca = pd.DataFrame(data=principal_components, columns=[f'PC{i+1}' for i in range(principal_components.shape[1])])\n",
    "\n",
    "# 5. Clustering\n",
    "# Elbow Method\n",
    "sse = []\n",
    "for k in range(1, 11):\n",
    "    kmeans = KMeans(n_clusters=k, random_state=42)\n",
    "    kmeans.fit(df_pca)\n",
    "    sse.append(kmeans.inertia_)\n",
    "\n",
    "plt.plot(range(1, 11), sse)\n",
    "plt.xlabel('Number of Clusters')\n",
    "plt.ylabel('SSE')\n",
    "plt.title('Elbow Method')\n",
    "plt.show()\n",
    "\n",
    "# Silhouette Score\n",
    "for k in range(2, 3):\n",
    "    kmeans = KMeans(n_clusters=k, random_state=42)\n",
    "    labels = kmeans.fit_predict(df_pca)\n",
    "    silhouette_avg = silhouette_score(df_pca, labels)\n",
    "    print(f\"For n_clusters = {k}, the average silhouette score is: {silhouette_avg}\")\n",
    "\n",
    "# Apply KMeans with the optimal number of clusters (let's assume k=3)\n",
    "optimal_clusters = 3\n",
    "kmeans = KMeans(n_clusters=optimal_clusters, random_state=42)\n",
    "df['Cluster'] = kmeans.fit_predict(df_pca)\n",
    "\n",
    "# 6. Cluster Analysis\n",
    "# Calculate the mean of features for each cluster\n",
    "cluster_means = df.groupby('Cluster').mean()\n",
    "\n",
    "# Display the cluster means\n",
    "print(cluster_means)\n",
    "\n",
    "# Plotting clusters for visualization\n",
    "df_plot = pd.DataFrame(data=principal_components[:, :2], columns=['PC1', 'PC2'])\n",
    "df_plot['Cluster'] = df['Cluster']\n",
    "sns.scatterplot(data=df_plot, x='PC1', y='PC2', hue='Cluster', palette='viridis')\n",
    "plt.show()\n"
   ]
  },
  {
   "cell_type": "code",
   "execution_count": 64,
   "id": "0beedff7-db61-4f6d-82e3-e63f9a98e9eb",
   "metadata": {},
   "outputs": [
    {
     "name": "stdout",
     "output_type": "stream",
     "text": [
      "     price  geo_region  category\n",
      "0  18000.0           1         0\n",
      "1  67000.0           1         0\n",
      "2  85000.0           1         0\n",
      "3  47000.0           1         0\n",
      "4   9000.0           1         0\n"
     ]
    }
   ],
   "source": [
    " # Replace with actual feature names\n",
    "selected_features = ['price', 'geo_region', 'category']\n",
    "df_selected = df[selected_features]\n",
    "print(df_selected.head())\n"
   ]
  },
  {
   "cell_type": "code",
   "execution_count": 65,
   "id": "e834f661-e8c5-45f4-b18d-fa309cf7320d",
   "metadata": {},
   "outputs": [
    {
     "data": {
      "image/png": "[encoded data removed]",
      "text/plain": [
       "<Figure size 640x480 with 1 Axes>"
      ]
     },
     "metadata": {},
     "output_type": "display_data"
    },
    {
     "name": "stdout",
     "output_type": "stream",
     "text": [
      "For n_clusters = 2, the average silhouette score is: 0.1892932282670404\n"
     ]
    }
   ],
   "source": [
    "from sklearn.cluster import KMeans\n",
    "import matplotlib.pyplot as plt\n",
    "from sklearn.metrics import silhouette_score\n",
    "\n",
    "# Using the PCA-transformed data if PCA was applied, otherwise use selected features\n",
    "data_for_clustering = df_pca if 'df_pca' in locals() else df_selected\n",
    "\n",
    "# Elbow Method\n",
    "sse = []\n",
    "for k in range(1, 11):\n",
    "    kmeans = KMeans(n_clusters=k, random_state=42)\n",
    "    kmeans.fit(data_for_clustering)\n",
    "    sse.append(kmeans.inertia_)\n",
    "\n",
    "plt.plot(range(1, 11), sse)\n",
    "plt.xlabel('Number of Clusters')\n",
    "plt.ylabel('SSE')\n",
    "plt.title('Elbow Method')\n",
    "plt.show()\n",
    "\n",
    "# Silhouette Score\n",
    "for k in range(2, 3):\n",
    "    kmeans = KMeans(n_clusters=k, random_state=42)\n",
    "    labels = kmeans.fit_predict(data_for_clustering)\n",
    "    silhouette_avg = silhouette_score(data_for_clustering, labels)\n",
    "    print(f\"For n_clusters = {k}, the average silhouette score is: {silhouette_avg}\")\n",
    "\n",
    "# Apply KMeans with the optimal number of clusters (let's assume k=3 from the Elbow Method and Silhouette Score)\n",
    "optimal_clusters = 3\n",
    "kmeans = KMeans(n_clusters=optimal_clusters, random_state=42)\n",
    "df['Cluster'] = kmeans.fit_predict(data_for_clustering)\n"
   ]
  },
  {
   "cell_type": "code",
   "execution_count": null,
   "id": "7e05920d-2a2b-4a76-9700-2228760631d8",
   "metadata": {},
   "outputs": [],
   "source": []
  }
 ],
 "metadata": {
  "kernelspec": {
   "display_name": "Python 3 (ipykernel)",
   "language": "python",
   "name": "python3"
  },
  "language_info": {
   "codemirror_mode": {
    "name": "ipython",
    "version": 3
   },
   "file_extension": ".py",
   "mimetype": "text/x-python",
   "name": "python",
   "nbconvert_exporter": "python",
   "pygments_lexer": "ipython3",
   "version": "3.12.2"
  }
 },
 "nbformat": 4,
 "nbformat_minor": 5
}
